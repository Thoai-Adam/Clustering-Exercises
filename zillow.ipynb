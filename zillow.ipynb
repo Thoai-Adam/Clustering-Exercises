{
 "cells": [
  {
   "cell_type": "code",
   "execution_count": 1,
   "id": "2d6159b5",
   "metadata": {},
   "outputs": [],
   "source": [
    "#ignore warnings\n",
    "import warnings\n",
    "warnings.filterwarnings(\"ignore\")\n",
    "\n",
    "#wrangling\n",
    "import pandas as pd\n",
    "import numpy as np\n",
    "import seaborn as sns\n",
    "\n",
    "import os\n",
    "from env import get_connection\n",
    "#exploring\n",
    "import scipy.stats as stats\n",
    "\n",
    "#Visualizing\n",
    "%matplotlib inline\n",
    "import matplotlib.pyplot as plt\n",
    "import seaborn as sns\n",
    "import sqlalchemy\n",
    "#default pandas decimal number display format\n",
    "pd.options.display.float_format = '{:20,.2f}'.format\n",
    "\n",
    "import acquire\n",
    "import summarize\n",
    "import prepare"
   ]
  },
  {
   "cell_type": "code",
   "execution_count": 11,
   "id": "3efa2a3b",
   "metadata": {
    "scrolled": false
   },
   "outputs": [
    {
     "name": "stdout",
     "output_type": "stream",
     "text": [
      "<class 'pandas.core.frame.DataFrame'>\n",
      "RangeIndex: 77613 entries, 0 to 77612\n",
      "Data columns (total 62 columns):\n",
      " #   Column                        Non-Null Count  Dtype  \n",
      "---  ------                        --------------  -----  \n",
      " 0   parcelid                      77613 non-null  int64  \n",
      " 1   id                            77613 non-null  int64  \n",
      " 2   airconditioningtypeid         25007 non-null  float64\n",
      " 3   architecturalstyletypeid      207 non-null    float64\n",
      " 4   basementsqft                  50 non-null     float64\n",
      " 5   bathroomcnt                   77579 non-null  float64\n",
      " 6   bedroomcnt                    77579 non-null  float64\n",
      " 7   buildingclasstypeid           15 non-null     float64\n",
      " 8   buildingqualitytypeid         49809 non-null  float64\n",
      " 9   calculatedbathnbr             76963 non-null  float64\n",
      " 10  decktypeid                    614 non-null    float64\n",
      " 11  finishedfloor1squarefeet      6037 non-null   float64\n",
      " 12  calculatedfinishedsquarefeet  77378 non-null  float64\n",
      " 13  finishedsquarefeet12          73923 non-null  float64\n",
      " 14  finishedsquarefeet13          42 non-null     float64\n",
      " 15  finishedsquarefeet15          3027 non-null   float64\n",
      " 16  finishedsquarefeet50          6037 non-null   float64\n",
      " 17  finishedsquarefeet6           386 non-null    float64\n",
      " 18  fips                          77579 non-null  float64\n",
      " 19  fireplacecnt                  8289 non-null   float64\n",
      " 20  fullbathcnt                   76963 non-null  float64\n",
      " 21  garagecarcnt                  25520 non-null  float64\n",
      " 22  garagetotalsqft               25520 non-null  float64\n",
      " 23  hashottuborspa                1539 non-null   float64\n",
      " 24  heatingorsystemtypeid         49571 non-null  float64\n",
      " 25  latitude                      77579 non-null  float64\n",
      " 26  longitude                     77579 non-null  float64\n",
      " 27  lotsizesquarefeet             69321 non-null  float64\n",
      " 28  poolcnt                       16174 non-null  float64\n",
      " 29  poolsizesum                   869 non-null    float64\n",
      " 30  pooltypeid10                  465 non-null    float64\n",
      " 31  pooltypeid2                   1074 non-null   float64\n",
      " 32  pooltypeid7                   15079 non-null  float64\n",
      " 33  propertycountylandusecode     77579 non-null  object \n",
      " 34  propertylandusetypeid         77579 non-null  float64\n",
      " 35  propertyzoningdesc            50476 non-null  object \n",
      " 36  rawcensustractandblock        77579 non-null  float64\n",
      " 37  regionidcity                  76107 non-null  float64\n",
      " 38  regionidcounty                77579 non-null  float64\n",
      " 39  regionidneighborhood          30974 non-null  float64\n",
      " 40  regionidzip                   77529 non-null  float64\n",
      " 41  roomcnt                       77579 non-null  float64\n",
      " 42  storytypeid                   50 non-null     float64\n",
      " 43  threequarterbathnbr           10106 non-null  float64\n",
      " 44  typeconstructiontypeid        223 non-null    float64\n",
      " 45  unitcnt                       50703 non-null  float64\n",
      " 46  yardbuildingsqft17            2393 non-null   float64\n",
      " 47  yardbuildingsqft26            70 non-null     float64\n",
      " 48  yearbuilt                     77309 non-null  float64\n",
      " 49  numberofstories               17599 non-null  float64\n",
      " 50  fireplaceflag                 172 non-null    float64\n",
      " 51  structuretaxvaluedollarcnt    77464 non-null  float64\n",
      " 52  taxvaluedollarcnt             77578 non-null  float64\n",
      " 53  assessmentyear                77579 non-null  float64\n",
      " 54  landtaxvaluedollarcnt         77577 non-null  float64\n",
      " 55  taxamount                     77574 non-null  float64\n",
      " 56  taxdelinquencyflag            2900 non-null   object \n",
      " 57  taxdelinquencyyear            2900 non-null   float64\n",
      " 58  censustractandblock           77332 non-null  float64\n",
      " 59  id                            77613 non-null  int64  \n",
      " 60  logerror                      77613 non-null  float64\n",
      " 61  transactiondate               77613 non-null  object \n",
      "dtypes: float64(55), int64(3), object(4)\n",
      "memory usage: 36.7+ MB\n"
     ]
    }
   ],
   "source": [
    "# Create SQL query.\n",
    "sql_query = '''\n",
    "    SELECT *\n",
    "    FROM properties_2017\n",
    "    JOIN predictions_2017 USING(parcelid)\n",
    "    WHERE transactiondate BETWEEN \"2017-01-01\" AND \"2017-12-31\";\n",
    "'''\n",
    "        \n",
    "    \n",
    "           \n",
    "df = pd.read_sql(sql_query, get_connection('zillow'))\n",
    "df.info()"
   ]
  },
  {
   "cell_type": "code",
   "execution_count": 16,
   "id": "2b2319c1",
   "metadata": {},
   "outputs": [
    {
     "data": {
      "text/plain": [
       "parcelid                        0\n",
       "id                              0\n",
       "airconditioningtypeid       52606\n",
       "architecturalstyletypeid    77406\n",
       "basementsqft                77563\n",
       "                            ...  \n",
       "taxdelinquencyyear          74713\n",
       "censustractandblock           281\n",
       "id                              0\n",
       "logerror                        0\n",
       "transactiondate                 0\n",
       "Length: 62, dtype: int64"
      ]
     },
     "execution_count": 16,
     "metadata": {},
     "output_type": "execute_result"
    }
   ],
   "source": [
    "df.isnull().sum()"
   ]
  },
  {
   "cell_type": "code",
   "execution_count": null,
   "id": "a6d0303e",
   "metadata": {},
   "outputs": [],
   "source": []
  }
 ],
 "metadata": {
  "kernelspec": {
   "display_name": "Python 3 (ipykernel)",
   "language": "python",
   "name": "python3"
  },
  "language_info": {
   "codemirror_mode": {
    "name": "ipython",
    "version": 3
   },
   "file_extension": ".py",
   "mimetype": "text/x-python",
   "name": "python",
   "nbconvert_exporter": "python",
   "pygments_lexer": "ipython3",
   "version": "3.10.9"
  }
 },
 "nbformat": 4,
 "nbformat_minor": 5
}
