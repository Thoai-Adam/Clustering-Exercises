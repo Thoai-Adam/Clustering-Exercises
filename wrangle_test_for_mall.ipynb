{
 "cells": [
  {
   "cell_type": "code",
   "execution_count": 1,
   "id": "472a0ccb",
   "metadata": {},
   "outputs": [],
   "source": [
    "import warnings\n",
    "warnings.filterwarnings(\"ignore\")"
   ]
  },
  {
   "cell_type": "code",
   "execution_count": 2,
   "id": "2238b899",
   "metadata": {},
   "outputs": [],
   "source": [
    "import numpy as np\n",
    "import pandas as pd\n",
    "import env\n",
    "import os \n",
    "import wrangle_mall\n",
    "\n",
    "from sklearn.preprocessing import MinMaxScaler\n",
    "from sklearn.model_selection import train_test_split"
   ]
  },
  {
   "cell_type": "code",
   "execution_count": 3,
   "id": "ede1d13b",
   "metadata": {
    "scrolled": true
   },
   "outputs": [
    {
     "data": {
      "text/plain": [
       "(200, 5)"
      ]
     },
     "execution_count": 3,
     "metadata": {},
     "output_type": "execute_result"
    }
   ],
   "source": [
    "df =wrangle_mall.acquire_mall()\n",
    "df.shape"
   ]
  },
  {
   "cell_type": "code",
   "execution_count": 4,
   "id": "dae915b1",
   "metadata": {},
   "outputs": [
    {
     "data": {
      "text/html": [
       "<div>\n",
       "<style scoped>\n",
       "    .dataframe tbody tr th:only-of-type {\n",
       "        vertical-align: middle;\n",
       "    }\n",
       "\n",
       "    .dataframe tbody tr th {\n",
       "        vertical-align: top;\n",
       "    }\n",
       "\n",
       "    .dataframe thead th {\n",
       "        text-align: right;\n",
       "    }\n",
       "</style>\n",
       "<table border=\"1\" class=\"dataframe\">\n",
       "  <thead>\n",
       "    <tr style=\"text-align: right;\">\n",
       "      <th></th>\n",
       "      <th>customer_id</th>\n",
       "      <th>age</th>\n",
       "      <th>annual_income</th>\n",
       "      <th>spending_score</th>\n",
       "    </tr>\n",
       "  </thead>\n",
       "  <tbody>\n",
       "    <tr>\n",
       "      <th>count</th>\n",
       "      <td>200.000000</td>\n",
       "      <td>200.000000</td>\n",
       "      <td>200.000000</td>\n",
       "      <td>200.000000</td>\n",
       "    </tr>\n",
       "    <tr>\n",
       "      <th>mean</th>\n",
       "      <td>100.500000</td>\n",
       "      <td>38.850000</td>\n",
       "      <td>60.560000</td>\n",
       "      <td>50.200000</td>\n",
       "    </tr>\n",
       "    <tr>\n",
       "      <th>std</th>\n",
       "      <td>57.879185</td>\n",
       "      <td>13.969007</td>\n",
       "      <td>26.264721</td>\n",
       "      <td>25.823522</td>\n",
       "    </tr>\n",
       "    <tr>\n",
       "      <th>min</th>\n",
       "      <td>1.000000</td>\n",
       "      <td>18.000000</td>\n",
       "      <td>15.000000</td>\n",
       "      <td>1.000000</td>\n",
       "    </tr>\n",
       "    <tr>\n",
       "      <th>25%</th>\n",
       "      <td>50.750000</td>\n",
       "      <td>28.750000</td>\n",
       "      <td>41.500000</td>\n",
       "      <td>34.750000</td>\n",
       "    </tr>\n",
       "    <tr>\n",
       "      <th>50%</th>\n",
       "      <td>100.500000</td>\n",
       "      <td>36.000000</td>\n",
       "      <td>61.500000</td>\n",
       "      <td>50.000000</td>\n",
       "    </tr>\n",
       "    <tr>\n",
       "      <th>75%</th>\n",
       "      <td>150.250000</td>\n",
       "      <td>49.000000</td>\n",
       "      <td>78.000000</td>\n",
       "      <td>73.000000</td>\n",
       "    </tr>\n",
       "    <tr>\n",
       "      <th>max</th>\n",
       "      <td>200.000000</td>\n",
       "      <td>70.000000</td>\n",
       "      <td>137.000000</td>\n",
       "      <td>99.000000</td>\n",
       "    </tr>\n",
       "  </tbody>\n",
       "</table>\n",
       "</div>"
      ],
      "text/plain": [
       "       customer_id         age  annual_income  spending_score\n",
       "count   200.000000  200.000000     200.000000      200.000000\n",
       "mean    100.500000   38.850000      60.560000       50.200000\n",
       "std      57.879185   13.969007      26.264721       25.823522\n",
       "min       1.000000   18.000000      15.000000        1.000000\n",
       "25%      50.750000   28.750000      41.500000       34.750000\n",
       "50%     100.500000   36.000000      61.500000       50.000000\n",
       "75%     150.250000   49.000000      78.000000       73.000000\n",
       "max     200.000000   70.000000     137.000000       99.000000"
      ]
     },
     "execution_count": 4,
     "metadata": {},
     "output_type": "execute_result"
    }
   ],
   "source": [
    "df.describe()"
   ]
  },
  {
   "cell_type": "code",
   "execution_count": 5,
   "id": "3eda5fdf",
   "metadata": {},
   "outputs": [
    {
     "data": {
      "text/plain": [
       "customer_id       0\n",
       "gender            0\n",
       "age               0\n",
       "annual_income     0\n",
       "spending_score    0\n",
       "dtype: int64"
      ]
     },
     "execution_count": 5,
     "metadata": {},
     "output_type": "execute_result"
    }
   ],
   "source": [
    "df.isnull().sum(axis=0)"
   ]
  },
  {
   "cell_type": "code",
   "execution_count": 6,
   "id": "dfc8d04f",
   "metadata": {},
   "outputs": [],
   "source": [
    "count_missing = df.isnull().sum(axis=1)\n",
    "percent_missing = round((df.isnull().sum(axis=1) / df.shape[1]) * 100)\n",
    "rows_df = pd.DataFrame({\n",
    "'num_cols_missing': count_missing,\n",
    "'percent_cols_missing': percent_missing\n",
    "}).reset_index()\\\n",
    ".groupby(['num_cols_missing', 'percent_cols_missing']).\\\n",
    "count().reset_index().rename(columns={'index':'num_rows'})"
   ]
  },
  {
   "cell_type": "code",
   "execution_count": 7,
   "id": "4e878c3a",
   "metadata": {},
   "outputs": [
    {
     "data": {
      "text/plain": [
       "0      0\n",
       "1      0\n",
       "2      0\n",
       "3      0\n",
       "4      0\n",
       "      ..\n",
       "195    0\n",
       "196    0\n",
       "197    0\n",
       "198    0\n",
       "199    0\n",
       "Length: 200, dtype: int64"
      ]
     },
     "execution_count": 7,
     "metadata": {},
     "output_type": "execute_result"
    }
   ],
   "source": [
    "count_missing"
   ]
  },
  {
   "cell_type": "code",
   "execution_count": 8,
   "id": "87d46dd8",
   "metadata": {},
   "outputs": [
    {
     "data": {
      "text/plain": [
       "(customer_id      -98.500\n",
       " age               -1.625\n",
       " annual_income    -13.250\n",
       " spending_score   -22.625\n",
       " dtype: float64,\n",
       " customer_id       299.500\n",
       " age                79.375\n",
       " annual_income     132.750\n",
       " spending_score    130.375\n",
       " dtype: float64)"
      ]
     },
     "execution_count": 8,
     "metadata": {},
     "output_type": "execute_result"
    }
   ],
   "source": [
    "col = df.columns\n",
    "wrangle_mall.get_fences(df, col)"
   ]
  },
  {
   "cell_type": "code",
   "execution_count": 9,
   "id": "858f8e93",
   "metadata": {},
   "outputs": [
    {
     "name": "stdout",
     "output_type": "stream",
     "text": [
      "Outliers for Col customer_id:\n",
      "lower:  -98.5 upper:  299.5\n",
      "Series([], Name: customer_id, dtype: int64)\n",
      "----------\n",
      "Outliers for Col age:\n",
      "lower:  -1.625 upper:  79.375\n",
      "Series([], Name: age, dtype: int64)\n",
      "----------\n",
      "Outliers for Col annual_income:\n",
      "lower:  -13.25 upper:  132.75\n",
      "198    137\n",
      "199    137\n",
      "Name: annual_income, dtype: int64\n",
      "----------\n",
      "Outliers for Col spending_score:\n",
      "lower:  -22.625 upper:  130.375\n",
      "Series([], Name: spending_score, dtype: int64)\n",
      "----------\n"
     ]
    }
   ],
   "source": [
    "wrangle_mall.report_outliers(df, k=1.5)"
   ]
  },
  {
   "cell_type": "code",
   "execution_count": 10,
   "id": "e113d5e5",
   "metadata": {},
   "outputs": [
    {
     "name": "stdout",
     "output_type": "stream",
     "text": [
      "Shape of Data: \n",
      "(200, 5)\n",
      "======================\n",
      "======================\n",
      "Info: \n",
      "<class 'pandas.core.frame.DataFrame'>\n",
      "RangeIndex: 200 entries, 0 to 199\n",
      "Data columns (total 5 columns):\n",
      " #   Column          Non-Null Count  Dtype \n",
      "---  ------          --------------  ----- \n",
      " 0   customer_id     200 non-null    int64 \n",
      " 1   gender          200 non-null    object\n",
      " 2   age             200 non-null    int64 \n",
      " 3   annual_income   200 non-null    int64 \n",
      " 4   spending_score  200 non-null    int64 \n",
      "dtypes: int64(4), object(1)\n",
      "memory usage: 7.9+ KB\n",
      "None\n",
      "======================\n",
      "======================\n",
      "Descriptions:\n",
      "|                |   count |   mean |     std |   min |   25% |   50% |    75% |   max |\n",
      "|:---------------|--------:|-------:|--------:|------:|------:|------:|-------:|------:|\n",
      "| customer_id    |     200 | 100.5  | 57.8792 |     1 | 50.75 | 100.5 | 150.25 |   200 |\n",
      "| age            |     200 |  38.85 | 13.969  |    18 | 28.75 |  36   |  49    |    70 |\n",
      "| annual_income  |     200 |  60.56 | 26.2647 |    15 | 41.5  |  61.5 |  78    |   137 |\n",
      "| spending_score |     200 |  50.2  | 25.8235 |     1 | 34.75 |  50   |  73    |    99 |\n",
      "======================\n",
      "======================\n",
      "|        |   count |   unique | top    |   freq |\n",
      "|:-------|--------:|---------:|:-------|-------:|\n",
      "| gender |     200 |        2 | Female |    112 |\n",
      "======================\n",
      "======================\n",
      "missing values:\n",
      "by column:\n",
      "|                |   0 |\n",
      "|:---------------|----:|\n",
      "| customer_id    |   0 |\n",
      "| gender         |   0 |\n",
      "| age            |   0 |\n",
      "| annual_income  |   0 |\n",
      "| spending_score |   0 |\n",
      "by row: \n",
      "|    |   num_cols_missing |   percent_cols_missing |   num_rows |\n",
      "|---:|-------------------:|-----------------------:|-----------:|\n",
      "|  0 |                  0 |                      0 |        200 |\n",
      "======================\n",
      "======================\n",
      "Outliers: \n",
      "Outliers for Col customer_id:\n",
      "lower:  -98.5 upper:  299.5\n",
      "Series([], Name: customer_id, dtype: int64)\n",
      "----------\n",
      "Outliers for Col age:\n",
      "lower:  -1.625 upper:  79.375\n",
      "Series([], Name: age, dtype: int64)\n",
      "----------\n",
      "Outliers for Col annual_income:\n",
      "lower:  -13.25 upper:  132.75\n",
      "198    137\n",
      "199    137\n",
      "Name: annual_income, dtype: int64\n",
      "----------\n",
      "Outliers for Col spending_score:\n",
      "lower:  -22.625 upper:  130.375\n",
      "Series([], Name: spending_score, dtype: int64)\n",
      "----------\n",
      "None\n",
      "======================\n",
      "======================\n"
     ]
    }
   ],
   "source": [
    "wrangle_mall.summarize(df, k=1.5)"
   ]
  },
  {
   "cell_type": "code",
   "execution_count": 11,
   "id": "3435d866",
   "metadata": {},
   "outputs": [],
   "source": [
    "train_val, test = train_test_split(\n",
    "    df, \n",
    "    train_size=0.8, \n",
    "    random_state=1349,\n",
    "    stratify=None)\n",
    "train, validate = train_test_split(\n",
    "    train_val,\n",
    "    train_size=0.7,\n",
    "    random_state=1349,\n",
    "    stratify=None)\n"
   ]
  },
  {
   "cell_type": "code",
   "execution_count": 12,
   "id": "6854fce2",
   "metadata": {},
   "outputs": [
    {
     "data": {
      "text/plain": [
       "['customer_id', 'age', 'annual_income', 'spending_score']"
      ]
     },
     "execution_count": 12,
     "metadata": {},
     "output_type": "execute_result"
    }
   ],
   "source": [
    "wrangle_mall.get_continuous_feats(df)"
   ]
  },
  {
   "cell_type": "code",
   "execution_count": 13,
   "id": "1cf59cbe",
   "metadata": {},
   "outputs": [],
   "source": [
    "# Define prop_required_column with the desired value (e.g., 0.7 for 70% required)\n",
    "prop_required_column = 0.75\n",
    "\n",
    "prop_required_row = 0.75"
   ]
  },
  {
   "cell_type": "code",
   "execution_count": 15,
   "id": "9abeb21a",
   "metadata": {},
   "outputs": [],
   "source": [
    "df = wrangle_mall.handle_missing_values(df, prop_required_column, prop_required_row)"
   ]
  },
  {
   "cell_type": "code",
   "execution_count": null,
   "id": "a267d1e3",
   "metadata": {},
   "outputs": [],
   "source": []
  }
 ],
 "metadata": {
  "kernelspec": {
   "display_name": "Python 3 (ipykernel)",
   "language": "python",
   "name": "python3"
  },
  "language_info": {
   "codemirror_mode": {
    "name": "ipython",
    "version": 3
   },
   "file_extension": ".py",
   "mimetype": "text/x-python",
   "name": "python",
   "nbconvert_exporter": "python",
   "pygments_lexer": "ipython3",
   "version": "3.10.9"
  }
 },
 "nbformat": 4,
 "nbformat_minor": 5
}
