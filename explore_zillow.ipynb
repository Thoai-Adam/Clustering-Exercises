{
 "cells": [
  {
   "cell_type": "code",
   "execution_count": 1,
   "id": "3a4a9daa",
   "metadata": {},
   "outputs": [],
   "source": [
    "import warnings\n",
    "warnings.filterwarnings(\"ignore\")"
   ]
  },
  {
   "cell_type": "code",
   "execution_count": 2,
   "id": "54045ad0",
   "metadata": {},
   "outputs": [],
   "source": [
    "\n",
    "import pandas as pd\n",
    "import numpy as np\n",
    "import seaborn as sns\n",
    "import matplotlib.pyplot as plt\n",
    "import env\n",
    "import wrangle_zillow\n",
    "from zillow_query import query as zquery\n",
    "from sklearn.preprocessing import MinMaxScaler\n",
    "from sklearn.model_selection import train_test_split"
   ]
  },
  {
   "cell_type": "code",
   "execution_count": 3,
   "id": "3b11e2b4",
   "metadata": {},
   "outputs": [
    {
     "data": {
      "text/plain": [
       "(52319, 68)"
      ]
     },
     "execution_count": 3,
     "metadata": {},
     "output_type": "execute_result"
    }
   ],
   "source": [
    "# get my mall \n",
    "df = wrangle_zillow.acquire_zillow()\n",
    "df.shape"
   ]
  },
  {
   "cell_type": "code",
   "execution_count": 4,
   "id": "39b19b85",
   "metadata": {
    "scrolled": true
   },
   "outputs": [
    {
     "data": {
      "text/html": [
       "<div>\n",
       "<style scoped>\n",
       "    .dataframe tbody tr th:only-of-type {\n",
       "        vertical-align: middle;\n",
       "    }\n",
       "\n",
       "    .dataframe tbody tr th {\n",
       "        vertical-align: top;\n",
       "    }\n",
       "\n",
       "    .dataframe thead th {\n",
       "        text-align: right;\n",
       "    }\n",
       "</style>\n",
       "<table border=\"1\" class=\"dataframe\">\n",
       "  <thead>\n",
       "    <tr style=\"text-align: right;\">\n",
       "      <th></th>\n",
       "      <th>id</th>\n",
       "      <th>parcelid</th>\n",
       "      <th>airconditioningtypeid</th>\n",
       "      <th>architecturalstyletypeid</th>\n",
       "      <th>basementsqft</th>\n",
       "      <th>bathroomcnt</th>\n",
       "      <th>bedroomcnt</th>\n",
       "      <th>buildingclasstypeid</th>\n",
       "      <th>buildingqualitytypeid</th>\n",
       "      <th>calculatedbathnbr</th>\n",
       "      <th>...</th>\n",
       "      <th>fireplaceflag</th>\n",
       "      <th>structuretaxvaluedollarcnt</th>\n",
       "      <th>taxvaluedollarcnt</th>\n",
       "      <th>assessmentyear</th>\n",
       "      <th>landtaxvaluedollarcnt</th>\n",
       "      <th>taxamount</th>\n",
       "      <th>taxdelinquencyyear</th>\n",
       "      <th>censustractandblock</th>\n",
       "      <th>logerror</th>\n",
       "      <th>buildingclassdesc</th>\n",
       "    </tr>\n",
       "  </thead>\n",
       "  <tbody>\n",
       "    <tr>\n",
       "      <th>count</th>\n",
       "      <td>5.231900e+04</td>\n",
       "      <td>5.231900e+04</td>\n",
       "      <td>13615.000000</td>\n",
       "      <td>70.00000</td>\n",
       "      <td>47.000000</td>\n",
       "      <td>52319.000000</td>\n",
       "      <td>52319.000000</td>\n",
       "      <td>0.0</td>\n",
       "      <td>33654.000000</td>\n",
       "      <td>52184.000000</td>\n",
       "      <td>...</td>\n",
       "      <td>81.0</td>\n",
       "      <td>5.223700e+04</td>\n",
       "      <td>5.231800e+04</td>\n",
       "      <td>52319.0</td>\n",
       "      <td>5.231800e+04</td>\n",
       "      <td>52315.000000</td>\n",
       "      <td>2068.000000</td>\n",
       "      <td>5.219800e+04</td>\n",
       "      <td>52319.000000</td>\n",
       "      <td>0.0</td>\n",
       "    </tr>\n",
       "    <tr>\n",
       "      <th>mean</th>\n",
       "      <td>1.496888e+06</td>\n",
       "      <td>1.299682e+07</td>\n",
       "      <td>2.439589</td>\n",
       "      <td>7.10000</td>\n",
       "      <td>678.978723</td>\n",
       "      <td>2.300015</td>\n",
       "      <td>3.300770</td>\n",
       "      <td>NaN</td>\n",
       "      <td>6.264961</td>\n",
       "      <td>2.305276</td>\n",
       "      <td>...</td>\n",
       "      <td>1.0</td>\n",
       "      <td>1.966385e+05</td>\n",
       "      <td>5.298287e+05</td>\n",
       "      <td>2016.0</td>\n",
       "      <td>3.334946e+05</td>\n",
       "      <td>6454.802564</td>\n",
       "      <td>14.101064</td>\n",
       "      <td>6.050245e+13</td>\n",
       "      <td>0.018136</td>\n",
       "      <td>NaN</td>\n",
       "    </tr>\n",
       "    <tr>\n",
       "      <th>std</th>\n",
       "      <td>8.594310e+05</td>\n",
       "      <td>3.350951e+06</td>\n",
       "      <td>3.847925</td>\n",
       "      <td>2.66567</td>\n",
       "      <td>711.825226</td>\n",
       "      <td>1.022816</td>\n",
       "      <td>0.947563</td>\n",
       "      <td>NaN</td>\n",
       "      <td>1.716328</td>\n",
       "      <td>1.018076</td>\n",
       "      <td>...</td>\n",
       "      <td>0.0</td>\n",
       "      <td>2.542880e+05</td>\n",
       "      <td>7.518358e+05</td>\n",
       "      <td>0.0</td>\n",
       "      <td>5.705157e+05</td>\n",
       "      <td>8752.550365</td>\n",
       "      <td>2.400399</td>\n",
       "      <td>1.861145e+12</td>\n",
       "      <td>0.176904</td>\n",
       "      <td>NaN</td>\n",
       "    </tr>\n",
       "    <tr>\n",
       "      <th>min</th>\n",
       "      <td>3.490000e+02</td>\n",
       "      <td>1.071186e+07</td>\n",
       "      <td>1.000000</td>\n",
       "      <td>2.00000</td>\n",
       "      <td>38.000000</td>\n",
       "      <td>0.000000</td>\n",
       "      <td>0.000000</td>\n",
       "      <td>NaN</td>\n",
       "      <td>1.000000</td>\n",
       "      <td>1.000000</td>\n",
       "      <td>...</td>\n",
       "      <td>1.0</td>\n",
       "      <td>1.290000e+02</td>\n",
       "      <td>1.000000e+03</td>\n",
       "      <td>2016.0</td>\n",
       "      <td>1.610000e+02</td>\n",
       "      <td>49.180000</td>\n",
       "      <td>4.000000</td>\n",
       "      <td>6.037101e+13</td>\n",
       "      <td>-4.655420</td>\n",
       "      <td>NaN</td>\n",
       "    </tr>\n",
       "    <tr>\n",
       "      <th>25%</th>\n",
       "      <td>7.575810e+05</td>\n",
       "      <td>1.151017e+07</td>\n",
       "      <td>1.000000</td>\n",
       "      <td>7.00000</td>\n",
       "      <td>263.500000</td>\n",
       "      <td>2.000000</td>\n",
       "      <td>3.000000</td>\n",
       "      <td>NaN</td>\n",
       "      <td>5.000000</td>\n",
       "      <td>2.000000</td>\n",
       "      <td>...</td>\n",
       "      <td>1.0</td>\n",
       "      <td>7.715900e+04</td>\n",
       "      <td>1.940205e+05</td>\n",
       "      <td>2016.0</td>\n",
       "      <td>7.619400e+04</td>\n",
       "      <td>2660.965000</td>\n",
       "      <td>14.000000</td>\n",
       "      <td>6.037401e+13</td>\n",
       "      <td>-0.024702</td>\n",
       "      <td>NaN</td>\n",
       "    </tr>\n",
       "    <tr>\n",
       "      <th>50%</th>\n",
       "      <td>1.500095e+06</td>\n",
       "      <td>1.257825e+07</td>\n",
       "      <td>1.000000</td>\n",
       "      <td>7.00000</td>\n",
       "      <td>512.000000</td>\n",
       "      <td>2.000000</td>\n",
       "      <td>3.000000</td>\n",
       "      <td>NaN</td>\n",
       "      <td>6.000000</td>\n",
       "      <td>2.000000</td>\n",
       "      <td>...</td>\n",
       "      <td>1.0</td>\n",
       "      <td>1.319100e+05</td>\n",
       "      <td>3.740080e+05</td>\n",
       "      <td>2016.0</td>\n",
       "      <td>2.180790e+05</td>\n",
       "      <td>4650.620000</td>\n",
       "      <td>15.000000</td>\n",
       "      <td>6.037620e+13</td>\n",
       "      <td>0.006935</td>\n",
       "      <td>NaN</td>\n",
       "    </tr>\n",
       "    <tr>\n",
       "      <th>75%</th>\n",
       "      <td>2.241248e+06</td>\n",
       "      <td>1.413036e+07</td>\n",
       "      <td>1.000000</td>\n",
       "      <td>7.00000</td>\n",
       "      <td>809.500000</td>\n",
       "      <td>3.000000</td>\n",
       "      <td>4.000000</td>\n",
       "      <td>NaN</td>\n",
       "      <td>8.000000</td>\n",
       "      <td>3.000000</td>\n",
       "      <td>...</td>\n",
       "      <td>1.0</td>\n",
       "      <td>2.264550e+05</td>\n",
       "      <td>6.193580e+05</td>\n",
       "      <td>2016.0</td>\n",
       "      <td>4.087795e+05</td>\n",
       "      <td>7379.320000</td>\n",
       "      <td>15.000000</td>\n",
       "      <td>6.059042e+13</td>\n",
       "      <td>0.040599</td>\n",
       "      <td>NaN</td>\n",
       "    </tr>\n",
       "    <tr>\n",
       "      <th>max</th>\n",
       "      <td>2.982270e+06</td>\n",
       "      <td>1.676878e+08</td>\n",
       "      <td>13.000000</td>\n",
       "      <td>21.00000</td>\n",
       "      <td>3560.000000</td>\n",
       "      <td>18.000000</td>\n",
       "      <td>14.000000</td>\n",
       "      <td>NaN</td>\n",
       "      <td>12.000000</td>\n",
       "      <td>18.000000</td>\n",
       "      <td>...</td>\n",
       "      <td>1.0</td>\n",
       "      <td>9.164901e+06</td>\n",
       "      <td>4.906124e+07</td>\n",
       "      <td>2016.0</td>\n",
       "      <td>4.895220e+07</td>\n",
       "      <td>586639.300000</td>\n",
       "      <td>99.000000</td>\n",
       "      <td>4.830301e+14</td>\n",
       "      <td>5.262999</td>\n",
       "      <td>NaN</td>\n",
       "    </tr>\n",
       "  </tbody>\n",
       "</table>\n",
       "<p>8 rows × 58 columns</p>\n",
       "</div>"
      ],
      "text/plain": [
       "                 id      parcelid  airconditioningtypeid  \\\n",
       "count  5.231900e+04  5.231900e+04           13615.000000   \n",
       "mean   1.496888e+06  1.299682e+07               2.439589   \n",
       "std    8.594310e+05  3.350951e+06               3.847925   \n",
       "min    3.490000e+02  1.071186e+07               1.000000   \n",
       "25%    7.575810e+05  1.151017e+07               1.000000   \n",
       "50%    1.500095e+06  1.257825e+07               1.000000   \n",
       "75%    2.241248e+06  1.413036e+07               1.000000   \n",
       "max    2.982270e+06  1.676878e+08              13.000000   \n",
       "\n",
       "       architecturalstyletypeid  basementsqft   bathroomcnt    bedroomcnt  \\\n",
       "count                  70.00000     47.000000  52319.000000  52319.000000   \n",
       "mean                    7.10000    678.978723      2.300015      3.300770   \n",
       "std                     2.66567    711.825226      1.022816      0.947563   \n",
       "min                     2.00000     38.000000      0.000000      0.000000   \n",
       "25%                     7.00000    263.500000      2.000000      3.000000   \n",
       "50%                     7.00000    512.000000      2.000000      3.000000   \n",
       "75%                     7.00000    809.500000      3.000000      4.000000   \n",
       "max                    21.00000   3560.000000     18.000000     14.000000   \n",
       "\n",
       "       buildingclasstypeid  buildingqualitytypeid  calculatedbathnbr  ...  \\\n",
       "count                  0.0           33654.000000       52184.000000  ...   \n",
       "mean                   NaN               6.264961           2.305276  ...   \n",
       "std                    NaN               1.716328           1.018076  ...   \n",
       "min                    NaN               1.000000           1.000000  ...   \n",
       "25%                    NaN               5.000000           2.000000  ...   \n",
       "50%                    NaN               6.000000           2.000000  ...   \n",
       "75%                    NaN               8.000000           3.000000  ...   \n",
       "max                    NaN              12.000000          18.000000  ...   \n",
       "\n",
       "       fireplaceflag  structuretaxvaluedollarcnt  taxvaluedollarcnt  \\\n",
       "count           81.0                5.223700e+04       5.231800e+04   \n",
       "mean             1.0                1.966385e+05       5.298287e+05   \n",
       "std              0.0                2.542880e+05       7.518358e+05   \n",
       "min              1.0                1.290000e+02       1.000000e+03   \n",
       "25%              1.0                7.715900e+04       1.940205e+05   \n",
       "50%              1.0                1.319100e+05       3.740080e+05   \n",
       "75%              1.0                2.264550e+05       6.193580e+05   \n",
       "max              1.0                9.164901e+06       4.906124e+07   \n",
       "\n",
       "       assessmentyear  landtaxvaluedollarcnt      taxamount  \\\n",
       "count         52319.0           5.231800e+04   52315.000000   \n",
       "mean           2016.0           3.334946e+05    6454.802564   \n",
       "std               0.0           5.705157e+05    8752.550365   \n",
       "min            2016.0           1.610000e+02      49.180000   \n",
       "25%            2016.0           7.619400e+04    2660.965000   \n",
       "50%            2016.0           2.180790e+05    4650.620000   \n",
       "75%            2016.0           4.087795e+05    7379.320000   \n",
       "max            2016.0           4.895220e+07  586639.300000   \n",
       "\n",
       "       taxdelinquencyyear  censustractandblock      logerror  \\\n",
       "count         2068.000000         5.219800e+04  52319.000000   \n",
       "mean            14.101064         6.050245e+13      0.018136   \n",
       "std              2.400399         1.861145e+12      0.176904   \n",
       "min              4.000000         6.037101e+13     -4.655420   \n",
       "25%             14.000000         6.037401e+13     -0.024702   \n",
       "50%             15.000000         6.037620e+13      0.006935   \n",
       "75%             15.000000         6.059042e+13      0.040599   \n",
       "max             99.000000         4.830301e+14      5.262999   \n",
       "\n",
       "       buildingclassdesc  \n",
       "count                0.0  \n",
       "mean                 NaN  \n",
       "std                  NaN  \n",
       "min                  NaN  \n",
       "25%                  NaN  \n",
       "50%                  NaN  \n",
       "75%                  NaN  \n",
       "max                  NaN  \n",
       "\n",
       "[8 rows x 58 columns]"
      ]
     },
     "execution_count": 4,
     "metadata": {},
     "output_type": "execute_result"
    }
   ],
   "source": [
    "df.describe()"
   ]
  },
  {
   "cell_type": "code",
   "execution_count": null,
   "id": "949c80cc",
   "metadata": {},
   "outputs": [],
   "source": []
  },
  {
   "cell_type": "code",
   "execution_count": 9,
   "id": "90de2e2f",
   "metadata": {},
   "outputs": [],
   "source": [
    "train, val_test = train_test_split(df, train_size = 0.7,\n",
    "                                  random_state = 42,\n",
    "                                  stratify = None)\n",
    "val, test = train_test_split(val_test, train_size =0.5,\n",
    "                            random_state = 42,\n",
    "                            stratify = None)"
   ]
  },
  {
   "cell_type": "code",
   "execution_count": null,
   "id": "4a4c8ea3",
   "metadata": {},
   "outputs": [],
   "source": []
  },
  {
   "cell_type": "markdown",
   "id": "26f767c0",
   "metadata": {},
   "source": [
    "### Hypothesis questions\n",
    "\n",
    "1. Are there significant differences in Logerror Among taxamount?\n",
    "\n",
    "2. How Does Logerror Correlate with property age?\n",
    "\n",
    "3. Is there a Seasonal Trend in Logerror?\n",
    "\n",
    "4. What is the relationshiph between logerror and bedroomcnt\n",
    "\n",
    "5. Does logerror vary with yearbuilt?"
   ]
  },
  {
   "cell_type": "code",
   "execution_count": null,
   "id": "8b7dee42",
   "metadata": {},
   "outputs": [],
   "source": [
    "## Does logerror differ across taxamount?"
   ]
  },
  {
   "cell_type": "code",
   "execution_count": 11,
   "id": "4135ff2f",
   "metadata": {},
   "outputs": [
    {
     "data": {
      "image/png": "[encoded data removed]",
      "text/plain": [
       "<Figure size 640x480 with 1 Axes>"
      ]
     },
     "metadata": {},
     "output_type": "display_data"
    }
   ],
   "source": [
    "sns.boxplot(data = train, x='taxamount', y='logerror')\n",
    "plt.show()"
   ]
  },
  {
   "cell_type": "code",
   "execution_count": null,
   "id": "59c8c00b",
   "metadata": {},
   "outputs": [],
   "source": [
    "# verify assumptions: normal distribution\n",
    "for fips_code in train.taxamount.unique():\n",
    "    county = train[train.taxamount]\n",
    "    sns.histplot(county.logerror)\n",
    "    plt.show()"
   ]
  },
  {
   "cell_type": "code",
   "execution_count": null,
   "id": "b12800f0",
   "metadata": {},
   "outputs": [],
   "source": []
  },
  {
   "cell_type": "code",
   "execution_count": null,
   "id": "2377a9b3",
   "metadata": {},
   "outputs": [],
   "source": []
  },
  {
   "cell_type": "code",
   "execution_count": null,
   "id": "009126d0",
   "metadata": {},
   "outputs": [],
   "source": []
  },
  {
   "cell_type": "code",
   "execution_count": null,
   "id": "3af9e096",
   "metadata": {},
   "outputs": [],
   "source": [
    "df.duplicated()"
   ]
  },
  {
   "cell_type": "code",
   "execution_count": null,
   "id": "1c0b7fb2",
   "metadata": {},
   "outputs": [],
   "source": [
    "df.value_counts()"
   ]
  },
  {
   "cell_type": "code",
   "execution_count": null,
   "id": "1d465787",
   "metadata": {},
   "outputs": [],
   "source": [
    "wrangle_zillow.missing_by_col(df)"
   ]
  },
  {
   "cell_type": "code",
   "execution_count": null,
   "id": "53f05026",
   "metadata": {},
   "outputs": [],
   "source": [
    "col=df.columns\n",
    "wrangle_zillow.get_fences(df, col)"
   ]
  },
  {
   "cell_type": "code",
   "execution_count": null,
   "id": "d524b0a0",
   "metadata": {},
   "outputs": [],
   "source": [
    "wrangle_zillow.report_outliers(df, k=1.5)"
   ]
  },
  {
   "cell_type": "code",
   "execution_count": null,
   "id": "3aff62a2",
   "metadata": {},
   "outputs": [],
   "source": [
    "train, val_test = train_test_split(df, train_size = 0.7,\n",
    "                                  random_state = 42,\n",
    "                                  stratify = None)\n",
    "val, test = train_test_split(val_test, train_size =0.5,\n",
    "                            random_state = 42,\n",
    "                            stratify = None)"
   ]
  },
  {
   "cell_type": "code",
   "execution_count": null,
   "id": "ca99e715",
   "metadata": {},
   "outputs": [],
   "source": [
    "train.shape"
   ]
  },
  {
   "cell_type": "code",
   "execution_count": null,
   "id": "5c8a03c0",
   "metadata": {},
   "outputs": [],
   "source": [
    "print(\"train observations: \", train.size)\n",
    "print(\"validate observations: \", val.size)\n",
    "print(\"test observations: \", test.size)\n"
   ]
  },
  {
   "cell_type": "markdown",
   "id": "c811d049",
   "metadata": {},
   "source": [
    "Questions I will ask: \n",
    "\n"
   ]
  },
  {
   "cell_type": "code",
   "execution_count": null,
   "id": "0e9aced6",
   "metadata": {},
   "outputs": [],
   "source": []
  },
  {
   "cell_type": "code",
   "execution_count": null,
   "id": "cb4e2988",
   "metadata": {},
   "outputs": [],
   "source": []
  },
  {
   "cell_type": "code",
   "execution_count": null,
   "id": "d795fe06",
   "metadata": {},
   "outputs": [],
   "source": []
  },
  {
   "cell_type": "code",
   "execution_count": null,
   "id": "6110a246",
   "metadata": {},
   "outputs": [],
   "source": []
  }
 ],
 "metadata": {
  "kernelspec": {
   "display_name": "Python 3 (ipykernel)",
   "language": "python",
   "name": "python3"
  },
  "language_info": {
   "codemirror_mode": {
    "name": "ipython",
    "version": 3
   },
   "file_extension": ".py",
   "mimetype": "text/x-python",
   "name": "python",
   "nbconvert_exporter": "python",
   "pygments_lexer": "ipython3",
   "version": "3.10.9"
  }
 },
 "nbformat": 4,
 "nbformat_minor": 5
}
