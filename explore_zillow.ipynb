{
 "cells": [
  {
   "cell_type": "code",
   "execution_count": 1,
   "id": "3a4a9daa",
   "metadata": {},
   "outputs": [],
   "source": [
    "import warnings\n",
    "warnings.filterwarnings(\"ignore\")"
   ]
  },
  {
   "cell_type": "code",
   "execution_count": 2,
   "id": "54045ad0",
   "metadata": {},
   "outputs": [],
   "source": [
    "\n",
    "import pandas as pd\n",
    "import numpy as np\n",
    "import seaborn as sns\n",
    "import matplotlib.pyplot as plt\n",
    "import env\n",
    "import wrangle_zillow\n",
    "from zillow_query import query as zquery\n",
    "from sklearn.preprocessing import MinMaxScaler\n",
    "from sklearn.model_selection import train_test_split\n",
    "from scipy import stats"
   ]
  },
  {
   "cell_type": "code",
   "execution_count": 3,
   "id": "3b11e2b4",
   "metadata": {},
   "outputs": [
    {
     "data": {
      "text/plain": [
       "(52319, 68)"
      ]
     },
     "execution_count": 3,
     "metadata": {},
     "output_type": "execute_result"
    }
   ],
   "source": [
    "# get my mall \n",
    "df = wrangle_zillow.acquire_zillow()\n",
    "df.shape"
   ]
  },
  {
   "cell_type": "code",
   "execution_count": 4,
   "id": "39b19b85",
   "metadata": {
    "scrolled": false
   },
   "outputs": [
    {
     "data": {
      "text/html": [
       "<div>\n",
       "<style scoped>\n",
       "    .dataframe tbody tr th:only-of-type {\n",
       "        vertical-align: middle;\n",
       "    }\n",
       "\n",
       "    .dataframe tbody tr th {\n",
       "        vertical-align: top;\n",
       "    }\n",
       "\n",
       "    .dataframe thead th {\n",
       "        text-align: right;\n",
       "    }\n",
       "</style>\n",
       "<table border=\"1\" class=\"dataframe\">\n",
       "  <thead>\n",
       "    <tr style=\"text-align: right;\">\n",
       "      <th></th>\n",
       "      <th>id</th>\n",
       "      <th>parcelid</th>\n",
       "      <th>airconditioningtypeid</th>\n",
       "      <th>architecturalstyletypeid</th>\n",
       "      <th>basementsqft</th>\n",
       "      <th>bathroomcnt</th>\n",
       "      <th>bedroomcnt</th>\n",
       "      <th>buildingclasstypeid</th>\n",
       "      <th>buildingqualitytypeid</th>\n",
       "      <th>calculatedbathnbr</th>\n",
       "      <th>...</th>\n",
       "      <th>fireplaceflag</th>\n",
       "      <th>structuretaxvaluedollarcnt</th>\n",
       "      <th>taxvaluedollarcnt</th>\n",
       "      <th>assessmentyear</th>\n",
       "      <th>landtaxvaluedollarcnt</th>\n",
       "      <th>taxamount</th>\n",
       "      <th>taxdelinquencyyear</th>\n",
       "      <th>censustractandblock</th>\n",
       "      <th>logerror</th>\n",
       "      <th>buildingclassdesc</th>\n",
       "    </tr>\n",
       "  </thead>\n",
       "  <tbody>\n",
       "    <tr>\n",
       "      <th>count</th>\n",
       "      <td>5.231900e+04</td>\n",
       "      <td>5.231900e+04</td>\n",
       "      <td>13615.000000</td>\n",
       "      <td>70.00000</td>\n",
       "      <td>47.000000</td>\n",
       "      <td>52319.000000</td>\n",
       "      <td>52319.000000</td>\n",
       "      <td>0.0</td>\n",
       "      <td>33654.000000</td>\n",
       "      <td>52184.000000</td>\n",
       "      <td>...</td>\n",
       "      <td>81.0</td>\n",
       "      <td>5.223700e+04</td>\n",
       "      <td>5.231800e+04</td>\n",
       "      <td>52319.0</td>\n",
       "      <td>5.231800e+04</td>\n",
       "      <td>52315.000000</td>\n",
       "      <td>2068.000000</td>\n",
       "      <td>5.219800e+04</td>\n",
       "      <td>52319.000000</td>\n",
       "      <td>0.0</td>\n",
       "    </tr>\n",
       "    <tr>\n",
       "      <th>mean</th>\n",
       "      <td>1.496888e+06</td>\n",
       "      <td>1.299682e+07</td>\n",
       "      <td>2.439589</td>\n",
       "      <td>7.10000</td>\n",
       "      <td>678.978723</td>\n",
       "      <td>2.300015</td>\n",
       "      <td>3.300770</td>\n",
       "      <td>NaN</td>\n",
       "      <td>6.264961</td>\n",
       "      <td>2.305276</td>\n",
       "      <td>...</td>\n",
       "      <td>1.0</td>\n",
       "      <td>1.966385e+05</td>\n",
       "      <td>5.298287e+05</td>\n",
       "      <td>2016.0</td>\n",
       "      <td>3.334946e+05</td>\n",
       "      <td>6454.802564</td>\n",
       "      <td>14.101064</td>\n",
       "      <td>6.050245e+13</td>\n",
       "      <td>0.018136</td>\n",
       "      <td>NaN</td>\n",
       "    </tr>\n",
       "    <tr>\n",
       "      <th>std</th>\n",
       "      <td>8.594310e+05</td>\n",
       "      <td>3.350951e+06</td>\n",
       "      <td>3.847925</td>\n",
       "      <td>2.66567</td>\n",
       "      <td>711.825226</td>\n",
       "      <td>1.022816</td>\n",
       "      <td>0.947563</td>\n",
       "      <td>NaN</td>\n",
       "      <td>1.716328</td>\n",
       "      <td>1.018076</td>\n",
       "      <td>...</td>\n",
       "      <td>0.0</td>\n",
       "      <td>2.542880e+05</td>\n",
       "      <td>7.518358e+05</td>\n",
       "      <td>0.0</td>\n",
       "      <td>5.705157e+05</td>\n",
       "      <td>8752.550365</td>\n",
       "      <td>2.400399</td>\n",
       "      <td>1.861145e+12</td>\n",
       "      <td>0.176904</td>\n",
       "      <td>NaN</td>\n",
       "    </tr>\n",
       "    <tr>\n",
       "      <th>min</th>\n",
       "      <td>3.490000e+02</td>\n",
       "      <td>1.071186e+07</td>\n",
       "      <td>1.000000</td>\n",
       "      <td>2.00000</td>\n",
       "      <td>38.000000</td>\n",
       "      <td>0.000000</td>\n",
       "      <td>0.000000</td>\n",
       "      <td>NaN</td>\n",
       "      <td>1.000000</td>\n",
       "      <td>1.000000</td>\n",
       "      <td>...</td>\n",
       "      <td>1.0</td>\n",
       "      <td>1.290000e+02</td>\n",
       "      <td>1.000000e+03</td>\n",
       "      <td>2016.0</td>\n",
       "      <td>1.610000e+02</td>\n",
       "      <td>49.180000</td>\n",
       "      <td>4.000000</td>\n",
       "      <td>6.037101e+13</td>\n",
       "      <td>-4.655420</td>\n",
       "      <td>NaN</td>\n",
       "    </tr>\n",
       "    <tr>\n",
       "      <th>25%</th>\n",
       "      <td>7.575810e+05</td>\n",
       "      <td>1.151017e+07</td>\n",
       "      <td>1.000000</td>\n",
       "      <td>7.00000</td>\n",
       "      <td>263.500000</td>\n",
       "      <td>2.000000</td>\n",
       "      <td>3.000000</td>\n",
       "      <td>NaN</td>\n",
       "      <td>5.000000</td>\n",
       "      <td>2.000000</td>\n",
       "      <td>...</td>\n",
       "      <td>1.0</td>\n",
       "      <td>7.715900e+04</td>\n",
       "      <td>1.940205e+05</td>\n",
       "      <td>2016.0</td>\n",
       "      <td>7.619400e+04</td>\n",
       "      <td>2660.965000</td>\n",
       "      <td>14.000000</td>\n",
       "      <td>6.037401e+13</td>\n",
       "      <td>-0.024702</td>\n",
       "      <td>NaN</td>\n",
       "    </tr>\n",
       "    <tr>\n",
       "      <th>50%</th>\n",
       "      <td>1.500095e+06</td>\n",
       "      <td>1.257825e+07</td>\n",
       "      <td>1.000000</td>\n",
       "      <td>7.00000</td>\n",
       "      <td>512.000000</td>\n",
       "      <td>2.000000</td>\n",
       "      <td>3.000000</td>\n",
       "      <td>NaN</td>\n",
       "      <td>6.000000</td>\n",
       "      <td>2.000000</td>\n",
       "      <td>...</td>\n",
       "      <td>1.0</td>\n",
       "      <td>1.319100e+05</td>\n",
       "      <td>3.740080e+05</td>\n",
       "      <td>2016.0</td>\n",
       "      <td>2.180790e+05</td>\n",
       "      <td>4650.620000</td>\n",
       "      <td>15.000000</td>\n",
       "      <td>6.037620e+13</td>\n",
       "      <td>0.006935</td>\n",
       "      <td>NaN</td>\n",
       "    </tr>\n",
       "    <tr>\n",
       "      <th>75%</th>\n",
       "      <td>2.241248e+06</td>\n",
       "      <td>1.413036e+07</td>\n",
       "      <td>1.000000</td>\n",
       "      <td>7.00000</td>\n",
       "      <td>809.500000</td>\n",
       "      <td>3.000000</td>\n",
       "      <td>4.000000</td>\n",
       "      <td>NaN</td>\n",
       "      <td>8.000000</td>\n",
       "      <td>3.000000</td>\n",
       "      <td>...</td>\n",
       "      <td>1.0</td>\n",
       "      <td>2.264550e+05</td>\n",
       "      <td>6.193580e+05</td>\n",
       "      <td>2016.0</td>\n",
       "      <td>4.087795e+05</td>\n",
       "      <td>7379.320000</td>\n",
       "      <td>15.000000</td>\n",
       "      <td>6.059042e+13</td>\n",
       "      <td>0.040599</td>\n",
       "      <td>NaN</td>\n",
       "    </tr>\n",
       "    <tr>\n",
       "      <th>max</th>\n",
       "      <td>2.982270e+06</td>\n",
       "      <td>1.676878e+08</td>\n",
       "      <td>13.000000</td>\n",
       "      <td>21.00000</td>\n",
       "      <td>3560.000000</td>\n",
       "      <td>18.000000</td>\n",
       "      <td>14.000000</td>\n",
       "      <td>NaN</td>\n",
       "      <td>12.000000</td>\n",
       "      <td>18.000000</td>\n",
       "      <td>...</td>\n",
       "      <td>1.0</td>\n",
       "      <td>9.164901e+06</td>\n",
       "      <td>4.906124e+07</td>\n",
       "      <td>2016.0</td>\n",
       "      <td>4.895220e+07</td>\n",
       "      <td>586639.300000</td>\n",
       "      <td>99.000000</td>\n",
       "      <td>4.830301e+14</td>\n",
       "      <td>5.262999</td>\n",
       "      <td>NaN</td>\n",
       "    </tr>\n",
       "  </tbody>\n",
       "</table>\n",
       "<p>8 rows × 58 columns</p>\n",
       "</div>"
      ],
      "text/plain": [
       "                 id      parcelid  airconditioningtypeid  \\\n",
       "count  5.231900e+04  5.231900e+04           13615.000000   \n",
       "mean   1.496888e+06  1.299682e+07               2.439589   \n",
       "std    8.594310e+05  3.350951e+06               3.847925   \n",
       "min    3.490000e+02  1.071186e+07               1.000000   \n",
       "25%    7.575810e+05  1.151017e+07               1.000000   \n",
       "50%    1.500095e+06  1.257825e+07               1.000000   \n",
       "75%    2.241248e+06  1.413036e+07               1.000000   \n",
       "max    2.982270e+06  1.676878e+08              13.000000   \n",
       "\n",
       "       architecturalstyletypeid  basementsqft   bathroomcnt    bedroomcnt  \\\n",
       "count                  70.00000     47.000000  52319.000000  52319.000000   \n",
       "mean                    7.10000    678.978723      2.300015      3.300770   \n",
       "std                     2.66567    711.825226      1.022816      0.947563   \n",
       "min                     2.00000     38.000000      0.000000      0.000000   \n",
       "25%                     7.00000    263.500000      2.000000      3.000000   \n",
       "50%                     7.00000    512.000000      2.000000      3.000000   \n",
       "75%                     7.00000    809.500000      3.000000      4.000000   \n",
       "max                    21.00000   3560.000000     18.000000     14.000000   \n",
       "\n",
       "       buildingclasstypeid  buildingqualitytypeid  calculatedbathnbr  ...  \\\n",
       "count                  0.0           33654.000000       52184.000000  ...   \n",
       "mean                   NaN               6.264961           2.305276  ...   \n",
       "std                    NaN               1.716328           1.018076  ...   \n",
       "min                    NaN               1.000000           1.000000  ...   \n",
       "25%                    NaN               5.000000           2.000000  ...   \n",
       "50%                    NaN               6.000000           2.000000  ...   \n",
       "75%                    NaN               8.000000           3.000000  ...   \n",
       "max                    NaN              12.000000          18.000000  ...   \n",
       "\n",
       "       fireplaceflag  structuretaxvaluedollarcnt  taxvaluedollarcnt  \\\n",
       "count           81.0                5.223700e+04       5.231800e+04   \n",
       "mean             1.0                1.966385e+05       5.298287e+05   \n",
       "std              0.0                2.542880e+05       7.518358e+05   \n",
       "min              1.0                1.290000e+02       1.000000e+03   \n",
       "25%              1.0                7.715900e+04       1.940205e+05   \n",
       "50%              1.0                1.319100e+05       3.740080e+05   \n",
       "75%              1.0                2.264550e+05       6.193580e+05   \n",
       "max              1.0                9.164901e+06       4.906124e+07   \n",
       "\n",
       "       assessmentyear  landtaxvaluedollarcnt      taxamount  \\\n",
       "count         52319.0           5.231800e+04   52315.000000   \n",
       "mean           2016.0           3.334946e+05    6454.802564   \n",
       "std               0.0           5.705157e+05    8752.550365   \n",
       "min            2016.0           1.610000e+02      49.180000   \n",
       "25%            2016.0           7.619400e+04    2660.965000   \n",
       "50%            2016.0           2.180790e+05    4650.620000   \n",
       "75%            2016.0           4.087795e+05    7379.320000   \n",
       "max            2016.0           4.895220e+07  586639.300000   \n",
       "\n",
       "       taxdelinquencyyear  censustractandblock      logerror  \\\n",
       "count         2068.000000         5.219800e+04  52319.000000   \n",
       "mean            14.101064         6.050245e+13      0.018136   \n",
       "std              2.400399         1.861145e+12      0.176904   \n",
       "min              4.000000         6.037101e+13     -4.655420   \n",
       "25%             14.000000         6.037401e+13     -0.024702   \n",
       "50%             15.000000         6.037620e+13      0.006935   \n",
       "75%             15.000000         6.059042e+13      0.040599   \n",
       "max             99.000000         4.830301e+14      5.262999   \n",
       "\n",
       "       buildingclassdesc  \n",
       "count                0.0  \n",
       "mean                 NaN  \n",
       "std                  NaN  \n",
       "min                  NaN  \n",
       "25%                  NaN  \n",
       "50%                  NaN  \n",
       "75%                  NaN  \n",
       "max                  NaN  \n",
       "\n",
       "[8 rows x 58 columns]"
      ]
     },
     "execution_count": 4,
     "metadata": {},
     "output_type": "execute_result"
    }
   ],
   "source": [
    "df.describe()"
   ]
  },
  {
   "cell_type": "code",
   "execution_count": 13,
   "id": "3e04de78",
   "metadata": {},
   "outputs": [
    {
     "data": {
      "text/plain": [
       "121"
      ]
     },
     "execution_count": 13,
     "metadata": {},
     "output_type": "execute_result"
    }
   ],
   "source": [
    "df.censustractandblock.isnull().sum()"
   ]
  },
  {
   "cell_type": "code",
   "execution_count": 14,
   "id": "949c80cc",
   "metadata": {},
   "outputs": [],
   "source": [
    "df = df.dropna(subset=['censustractandblock'])\n"
   ]
  },
  {
   "cell_type": "code",
   "execution_count": 15,
   "id": "90de2e2f",
   "metadata": {},
   "outputs": [],
   "source": [
    "train, val_test = train_test_split(df, train_size = 0.7,\n",
    "                                  random_state = 42,\n",
    "                                  stratify = None)\n",
    "val, test = train_test_split(val_test, train_size =0.5,\n",
    "                            random_state = 42,\n",
    "                            stratify = None)"
   ]
  },
  {
   "cell_type": "code",
   "execution_count": 16,
   "id": "4a4c8ea3",
   "metadata": {},
   "outputs": [],
   "source": [
    "columns_to_keep = ['bedroomcnt', 'bathroomcnt', 'censustractandblock', 'taxvaluedollarcnt','assessmentyear', 'logerror']"
   ]
  },
  {
   "cell_type": "code",
   "execution_count": 17,
   "id": "99d3d5bd",
   "metadata": {},
   "outputs": [],
   "source": [
    "df = df[columns_to_keep]"
   ]
  },
  {
   "cell_type": "code",
   "execution_count": 18,
   "id": "0a1c7e7f",
   "metadata": {},
   "outputs": [
    {
     "data": {
      "text/html": [
       "<div>\n",
       "<style scoped>\n",
       "    .dataframe tbody tr th:only-of-type {\n",
       "        vertical-align: middle;\n",
       "    }\n",
       "\n",
       "    .dataframe tbody tr th {\n",
       "        vertical-align: top;\n",
       "    }\n",
       "\n",
       "    .dataframe thead th {\n",
       "        text-align: right;\n",
       "    }\n",
       "</style>\n",
       "<table border=\"1\" class=\"dataframe\">\n",
       "  <thead>\n",
       "    <tr style=\"text-align: right;\">\n",
       "      <th></th>\n",
       "      <th>bedroomcnt</th>\n",
       "      <th>bathroomcnt</th>\n",
       "      <th>censustractandblock</th>\n",
       "      <th>taxvaluedollarcnt</th>\n",
       "      <th>assessmentyear</th>\n",
       "      <th>logerror</th>\n",
       "    </tr>\n",
       "  </thead>\n",
       "  <tbody>\n",
       "    <tr>\n",
       "      <th>0</th>\n",
       "      <td>4.0</td>\n",
       "      <td>3.5</td>\n",
       "      <td>6.059063e+13</td>\n",
       "      <td>1023282.0</td>\n",
       "      <td>2016.0</td>\n",
       "      <td>0.025595</td>\n",
       "    </tr>\n",
       "    <tr>\n",
       "      <th>1</th>\n",
       "      <td>2.0</td>\n",
       "      <td>1.0</td>\n",
       "      <td>6.111001e+13</td>\n",
       "      <td>464000.0</td>\n",
       "      <td>2016.0</td>\n",
       "      <td>0.055619</td>\n",
       "    </tr>\n",
       "    <tr>\n",
       "      <th>2</th>\n",
       "      <td>3.0</td>\n",
       "      <td>2.0</td>\n",
       "      <td>6.059022e+13</td>\n",
       "      <td>564778.0</td>\n",
       "      <td>2016.0</td>\n",
       "      <td>0.005383</td>\n",
       "    </tr>\n",
       "    <tr>\n",
       "      <th>3</th>\n",
       "      <td>4.0</td>\n",
       "      <td>3.0</td>\n",
       "      <td>6.037300e+13</td>\n",
       "      <td>145143.0</td>\n",
       "      <td>2016.0</td>\n",
       "      <td>-0.103410</td>\n",
       "    </tr>\n",
       "    <tr>\n",
       "      <th>4</th>\n",
       "      <td>4.0</td>\n",
       "      <td>3.0</td>\n",
       "      <td>6.037461e+13</td>\n",
       "      <td>773303.0</td>\n",
       "      <td>2016.0</td>\n",
       "      <td>-0.001011</td>\n",
       "    </tr>\n",
       "    <tr>\n",
       "      <th>...</th>\n",
       "      <td>...</td>\n",
       "      <td>...</td>\n",
       "      <td>...</td>\n",
       "      <td>...</td>\n",
       "      <td>...</td>\n",
       "      <td>...</td>\n",
       "    </tr>\n",
       "    <tr>\n",
       "      <th>52314</th>\n",
       "      <td>4.0</td>\n",
       "      <td>2.0</td>\n",
       "      <td>6.037555e+13</td>\n",
       "      <td>346534.0</td>\n",
       "      <td>2016.0</td>\n",
       "      <td>0.001082</td>\n",
       "    </tr>\n",
       "    <tr>\n",
       "      <th>52315</th>\n",
       "      <td>2.0</td>\n",
       "      <td>2.0</td>\n",
       "      <td>6.037101e+13</td>\n",
       "      <td>354621.0</td>\n",
       "      <td>2016.0</td>\n",
       "      <td>0.020615</td>\n",
       "    </tr>\n",
       "    <tr>\n",
       "      <th>52316</th>\n",
       "      <td>4.0</td>\n",
       "      <td>2.0</td>\n",
       "      <td>6.111008e+13</td>\n",
       "      <td>67205.0</td>\n",
       "      <td>2016.0</td>\n",
       "      <td>0.013209</td>\n",
       "    </tr>\n",
       "    <tr>\n",
       "      <th>52317</th>\n",
       "      <td>3.0</td>\n",
       "      <td>1.0</td>\n",
       "      <td>6.037434e+13</td>\n",
       "      <td>49546.0</td>\n",
       "      <td>2016.0</td>\n",
       "      <td>0.037129</td>\n",
       "    </tr>\n",
       "    <tr>\n",
       "      <th>52318</th>\n",
       "      <td>3.0</td>\n",
       "      <td>2.0</td>\n",
       "      <td>6.037503e+13</td>\n",
       "      <td>522000.0</td>\n",
       "      <td>2016.0</td>\n",
       "      <td>0.007204</td>\n",
       "    </tr>\n",
       "  </tbody>\n",
       "</table>\n",
       "<p>52198 rows × 6 columns</p>\n",
       "</div>"
      ],
      "text/plain": [
       "       bedroomcnt  bathroomcnt  censustractandblock  taxvaluedollarcnt  \\\n",
       "0             4.0          3.5         6.059063e+13          1023282.0   \n",
       "1             2.0          1.0         6.111001e+13           464000.0   \n",
       "2             3.0          2.0         6.059022e+13           564778.0   \n",
       "3             4.0          3.0         6.037300e+13           145143.0   \n",
       "4             4.0          3.0         6.037461e+13           773303.0   \n",
       "...           ...          ...                  ...                ...   \n",
       "52314         4.0          2.0         6.037555e+13           346534.0   \n",
       "52315         2.0          2.0         6.037101e+13           354621.0   \n",
       "52316         4.0          2.0         6.111008e+13            67205.0   \n",
       "52317         3.0          1.0         6.037434e+13            49546.0   \n",
       "52318         3.0          2.0         6.037503e+13           522000.0   \n",
       "\n",
       "       assessmentyear  logerror  \n",
       "0              2016.0  0.025595  \n",
       "1              2016.0  0.055619  \n",
       "2              2016.0  0.005383  \n",
       "3              2016.0 -0.103410  \n",
       "4              2016.0 -0.001011  \n",
       "...               ...       ...  \n",
       "52314          2016.0  0.001082  \n",
       "52315          2016.0  0.020615  \n",
       "52316          2016.0  0.013209  \n",
       "52317          2016.0  0.037129  \n",
       "52318          2016.0  0.007204  \n",
       "\n",
       "[52198 rows x 6 columns]"
      ]
     },
     "execution_count": 18,
     "metadata": {},
     "output_type": "execute_result"
    }
   ],
   "source": [
    "df"
   ]
  },
  {
   "cell_type": "markdown",
   "id": "26f767c0",
   "metadata": {},
   "source": [
    "### Hypothesis questions\n"
   ]
  },
  {
   "cell_type": "markdown",
   "id": "95df5d87",
   "metadata": {},
   "source": [
    "## Does logerror differ across bedroomcnt?"
   ]
  },
  {
   "cell_type": "code",
   "execution_count": 19,
   "id": "b7abda6c",
   "metadata": {},
   "outputs": [],
   "source": [
    "train.bedroomcnt=train.bedroomcnt.fillna(0)"
   ]
  },
  {
   "cell_type": "code",
   "execution_count": 20,
   "id": "deea83ab",
   "metadata": {},
   "outputs": [],
   "source": [
    "#get data\n",
    "bedroom = train[train.bedroomcnt !=0]\n",
    "no_bedroom = train[train.bedroomcnt ==0]"
   ]
  },
  {
   "cell_type": "code",
   "execution_count": 21,
   "id": "4dd549e9",
   "metadata": {},
   "outputs": [
    {
     "data": {
      "image/png": "[encoded data removed]",
      "text/plain": [
       "<Figure size 640x480 with 1 Axes>"
      ]
     },
     "metadata": {},
     "output_type": "display_data"
    }
   ],
   "source": [
    "#visualize\n",
    "sns.boxplot(data = train, \n",
    "           x = 'bedroomcnt',\n",
    "           y = 'logerror')\n",
    "plt.show()"
   ]
  },
  {
   "cell_type": "code",
   "execution_count": 22,
   "id": "c1dc93ac",
   "metadata": {},
   "outputs": [
    {
     "name": "stdout",
     "output_type": "stream",
     "text": [
      "equal variances, proceed\n"
     ]
    }
   ],
   "source": [
    "# is there equal variance? \n",
    "alpha =0.05\n",
    "stat, p = stats.levene(bedroom.logerror, no_bedroom.logerror)\n",
    "if p < alpha :\n",
    "    print('equal variances, proceed')\n",
    "else:\n",
    "    print('unequal variances')"
   ]
  },
  {
   "cell_type": "code",
   "execution_count": 23,
   "id": "85ed915e",
   "metadata": {},
   "outputs": [
    {
     "data": {
      "text/plain": [
       "(26.18383994964165, 0.0001060939222010843)"
      ]
     },
     "execution_count": 23,
     "metadata": {},
     "output_type": "execute_result"
    }
   ],
   "source": [
    "#performing ttest\n",
    "alpha = 0.05\n",
    "t, p = stats.ttest_ind(bedroom.logerror, no_bedroom.logerror)\n",
    "stat, p\n"
   ]
  },
  {
   "cell_type": "code",
   "execution_count": 24,
   "id": "2f21efa1",
   "metadata": {},
   "outputs": [
    {
     "name": "stdout",
     "output_type": "stream",
     "text": [
      "reject Null\n"
     ]
    }
   ],
   "source": [
    "if p < alpha: \n",
    "    print('reject Null')\n",
    "else:\n",
    "    print('fail to reject Null')"
   ]
  },
  {
   "cell_type": "markdown",
   "id": "378b86f3",
   "metadata": {},
   "source": [
    "This is show that there are no correlation between logerror and bedroom"
   ]
  },
  {
   "cell_type": "markdown",
   "id": "1ad0e13c",
   "metadata": {},
   "source": [
    "## How Does Logerror Correlate with censustractandblock?\n"
   ]
  },
  {
   "cell_type": "code",
   "execution_count": 27,
   "id": "3cf01305",
   "metadata": {},
   "outputs": [
    {
     "name": "stdout",
     "output_type": "stream",
     "text": [
      "Pearson Correlation Coefficient: 0.005105727161529627\n",
      "P-value: 0.2434207906231996\n",
      "The correlation is not statistically significant.\n"
     ]
    }
   ],
   "source": [
    "from scipy.stats import pearsonr\n",
    "correlation, p_value = pearsonr(df['censustractandblock'], df['logerror'])\n",
    "\n",
    "# Print the correlation coefficient and p-value\n",
    "print(f\"Pearson Correlation Coefficient: {correlation}\")\n",
    "print(f\"P-value: {p_value}\")\n",
    "\n",
    "# Interpret the results\n",
    "if p_value < 0.05:\n",
    "    print(\"The correlation is statistically significant.\")\n",
    "else:\n",
    "    print(\"The correlation is not statistically significant.\")\n",
    "\n"
   ]
  },
  {
   "cell_type": "markdown",
   "id": "7aa9f46b",
   "metadata": {},
   "source": [
    "## Is there a Trend in Logerror?\n"
   ]
  },
  {
   "cell_type": "code",
   "execution_count": 30,
   "id": "432abce3",
   "metadata": {},
   "outputs": [
    {
     "data": {
      "image/png": "[encoded data removed]",
      "text/plain": [
       "<Figure size 1200x600 with 1 Axes>"
      ]
     },
     "metadata": {},
     "output_type": "display_data"
    }
   ],
   "source": [
    "plt.figure(figsize=(12, 6))\n",
    "plt.plot(df.index, df['logerror'], marker='o', linestyle='-')\n",
    "plt.title('Logerror Trends')\n",
    "plt.xlabel('Data Point Index')\n",
    "plt.ylabel('Logerror')\n",
    "plt.grid(True)\n",
    "plt.show()\n"
   ]
  },
  {
   "cell_type": "code",
   "execution_count": 31,
   "id": "43c93372",
   "metadata": {
    "scrolled": false
   },
   "outputs": [
    {
     "name": "stdout",
     "output_type": "stream",
     "text": [
      "                            OLS Regression Results                            \n",
      "==============================================================================\n",
      "Dep. Variable:               logerror   R-squared:                       0.000\n",
      "Model:                            OLS   Adj. R-squared:                 -0.000\n",
      "Method:                 Least Squares   F-statistic:                    0.5633\n",
      "Date:                Tue, 26 Sep 2023   Prob (F-statistic):              0.453\n",
      "Time:                        08:54:11   Log-Likelihood:                 16638.\n",
      "No. Observations:               52198   AIC:                        -3.327e+04\n",
      "Df Residuals:                   52196   BIC:                        -3.325e+04\n",
      "Df Model:                           1                                         \n",
      "Covariance Type:            nonrobust                                         \n",
      "==============================================================================\n",
      "                 coef    std err          t      P>|t|      [0.025      0.975]\n",
      "------------------------------------------------------------------------------\n",
      "const          0.0171      0.002     11.075      0.000       0.014       0.020\n",
      "x1          3.836e-08   5.11e-08      0.751      0.453   -6.18e-08    1.39e-07\n",
      "==============================================================================\n",
      "Omnibus:                    49637.360   Durbin-Watson:                   2.008\n",
      "Prob(Omnibus):                  0.000   Jarque-Bera (JB):         26964310.530\n",
      "Skew:                           3.755   Prob(JB):                         0.00\n",
      "Kurtosis:                     114.092   Cond. No.                     6.03e+04\n",
      "==============================================================================\n",
      "\n",
      "Notes:\n",
      "[1] Standard Errors assume that the covariance matrix of the errors is correctly specified.\n",
      "[2] The condition number is large, 6.03e+04. This might indicate that there are\n",
      "strong multicollinearity or other numerical problems.\n",
      "P-value for the position coefficient: 1.7778690359770903e-28\n"
     ]
    }
   ],
   "source": [
    "import statsmodels.api as sm\n",
    "\n",
    "# Assuming 'df' is your DataFrame\n",
    "X = df.reset_index().index  # Use the index as the independent variable\n",
    "y = df['logerror']\n",
    "\n",
    "# Add a constant to the independent variable (intercept)\n",
    "X = sm.add_constant(X)\n",
    "\n",
    "# Fit the linear regression model\n",
    "model = sm.OLS(y, X).fit()\n",
    "\n",
    "# Get the summary of the regression analysis\n",
    "summary = model.summary()\n",
    "\n",
    "# Extract the p-value for the coefficient of the index (position)\n",
    "p_value = model.pvalues['const']  # This is the p-value for the position coefficient\n",
    "\n",
    "# Print the summary and p-value\n",
    "print(summary)\n",
    "print(f\"P-value for the position coefficient: {p_value}\")\n"
   ]
  },
  {
   "cell_type": "markdown",
   "id": "7b0f274e",
   "metadata": {},
   "source": [
    "## What is the relationship between logerror and bedroomcnt?\n"
   ]
  },
  {
   "cell_type": "markdown",
   "id": "d8f86c55",
   "metadata": {},
   "source": [
    "I will perform regression analysis to assess how bedroomcn tinfluence logerror. Using OLS i can estiamte the impact of bedroomcnt on logerror"
   ]
  },
  {
   "cell_type": "code",
   "execution_count": 36,
   "id": "fb0bb067",
   "metadata": {},
   "outputs": [
    {
     "data": {
      "text/html": [
       "<table class=\"simpletable\">\n",
       "<caption>OLS Regression Results</caption>\n",
       "<tr>\n",
       "  <th>Dep. Variable:</th>        <td>logerror</td>     <th>  R-squared:         </th>  <td>   0.001</td> \n",
       "</tr>\n",
       "<tr>\n",
       "  <th>Model:</th>                   <td>OLS</td>       <th>  Adj. R-squared:    </th>  <td>   0.001</td> \n",
       "</tr>\n",
       "<tr>\n",
       "  <th>Method:</th>             <td>Least Squares</td>  <th>  F-statistic:       </th>  <td>   77.75</td> \n",
       "</tr>\n",
       "<tr>\n",
       "  <th>Date:</th>             <td>Tue, 26 Sep 2023</td> <th>  Prob (F-statistic):</th>  <td>1.20e-18</td> \n",
       "</tr>\n",
       "<tr>\n",
       "  <th>Time:</th>                 <td>08:59:59</td>     <th>  Log-Likelihood:    </th>  <td>  16676.</td> \n",
       "</tr>\n",
       "<tr>\n",
       "  <th>No. Observations:</th>      <td> 52198</td>      <th>  AIC:               </th> <td>-3.335e+04</td>\n",
       "</tr>\n",
       "<tr>\n",
       "  <th>Df Residuals:</th>          <td> 52196</td>      <th>  BIC:               </th> <td>-3.333e+04</td>\n",
       "</tr>\n",
       "<tr>\n",
       "  <th>Df Model:</th>              <td>     1</td>      <th>                     </th>      <td> </td>    \n",
       "</tr>\n",
       "<tr>\n",
       "  <th>Covariance Type:</th>      <td>nonrobust</td>    <th>                     </th>      <td> </td>    \n",
       "</tr>\n",
       "</table>\n",
       "<table class=\"simpletable\">\n",
       "<tr>\n",
       "       <td></td>         <th>coef</th>     <th>std err</th>      <th>t</th>      <th>P>|t|</th>  <th>[0.025</th>    <th>0.975]</th>  \n",
       "</tr>\n",
       "<tr>\n",
       "  <th>const</th>      <td>   -0.0056</td> <td>    0.003</td> <td>   -2.012</td> <td> 0.044</td> <td>   -0.011</td> <td>   -0.000</td>\n",
       "</tr>\n",
       "<tr>\n",
       "  <th>bedroomcnt</th> <td>    0.0072</td> <td>    0.001</td> <td>    8.818</td> <td> 0.000</td> <td>    0.006</td> <td>    0.009</td>\n",
       "</tr>\n",
       "</table>\n",
       "<table class=\"simpletable\">\n",
       "<tr>\n",
       "  <th>Omnibus:</th>       <td>49654.827</td> <th>  Durbin-Watson:     </th>   <td>   2.008</td>  \n",
       "</tr>\n",
       "<tr>\n",
       "  <th>Prob(Omnibus):</th>  <td> 0.000</td>   <th>  Jarque-Bera (JB):  </th> <td>26902475.227</td>\n",
       "</tr>\n",
       "<tr>\n",
       "  <th>Skew:</th>           <td> 3.758</td>   <th>  Prob(JB):          </th>   <td>    0.00</td>  \n",
       "</tr>\n",
       "<tr>\n",
       "  <th>Kurtosis:</th>       <td>113.964</td>  <th>  Cond. No.          </th>   <td>    13.4</td>  \n",
       "</tr>\n",
       "</table><br/><br/>Notes:<br/>[1] Standard Errors assume that the covariance matrix of the errors is correctly specified."
      ],
      "text/plain": [
       "<class 'statsmodels.iolib.summary.Summary'>\n",
       "\"\"\"\n",
       "                            OLS Regression Results                            \n",
       "==============================================================================\n",
       "Dep. Variable:               logerror   R-squared:                       0.001\n",
       "Model:                            OLS   Adj. R-squared:                  0.001\n",
       "Method:                 Least Squares   F-statistic:                     77.75\n",
       "Date:                Tue, 26 Sep 2023   Prob (F-statistic):           1.20e-18\n",
       "Time:                        08:59:59   Log-Likelihood:                 16676.\n",
       "No. Observations:               52198   AIC:                        -3.335e+04\n",
       "Df Residuals:                   52196   BIC:                        -3.333e+04\n",
       "Df Model:                           1                                         \n",
       "Covariance Type:            nonrobust                                         \n",
       "==============================================================================\n",
       "                 coef    std err          t      P>|t|      [0.025      0.975]\n",
       "------------------------------------------------------------------------------\n",
       "const         -0.0056      0.003     -2.012      0.044      -0.011      -0.000\n",
       "bedroomcnt     0.0072      0.001      8.818      0.000       0.006       0.009\n",
       "==============================================================================\n",
       "Omnibus:                    49654.827   Durbin-Watson:                   2.008\n",
       "Prob(Omnibus):                  0.000   Jarque-Bera (JB):         26902475.227\n",
       "Skew:                           3.758   Prob(JB):                         0.00\n",
       "Kurtosis:                     113.964   Cond. No.                         13.4\n",
       "==============================================================================\n",
       "\n",
       "Notes:\n",
       "[1] Standard Errors assume that the covariance matrix of the errors is correctly specified.\n",
       "\"\"\""
      ]
     },
     "execution_count": 36,
     "metadata": {},
     "output_type": "execute_result"
    }
   ],
   "source": [
    "\n",
    "\n",
    "# Assuming 'df' contains all relevant variables\n",
    "X = df[['bedroomcnt']]\n",
    "X = sm.add_constant(X)  # Add a constant term (intercept)\n",
    "y = df['logerror']\n",
    "\n",
    "# Fit the OLS regression model\n",
    "model = sm.OLS(y, X).fit()\n",
    "\n",
    "# Get regression summary\n",
    "summary = model.summary()\n",
    "summary"
   ]
  },
  {
   "cell_type": "markdown",
   "id": "0203a546",
   "metadata": {},
   "source": [
    "The p value is below 0.05 therefore there is a significant relationship here"
   ]
  },
  {
   "cell_type": "markdown",
   "id": "31ed3e80",
   "metadata": {},
   "source": [
    "## What is the relationship between logerror and bathroomcnt?\n"
   ]
  },
  {
   "cell_type": "code",
   "execution_count": 37,
   "id": "5676f9d1",
   "metadata": {},
   "outputs": [
    {
     "data": {
      "text/html": [
       "<table class=\"simpletable\">\n",
       "<caption>OLS Regression Results</caption>\n",
       "<tr>\n",
       "  <th>Dep. Variable:</th>        <td>logerror</td>     <th>  R-squared:         </th>  <td>   0.001</td> \n",
       "</tr>\n",
       "<tr>\n",
       "  <th>Model:</th>                   <td>OLS</td>       <th>  Adj. R-squared:    </th>  <td>   0.001</td> \n",
       "</tr>\n",
       "<tr>\n",
       "  <th>Method:</th>             <td>Least Squares</td>  <th>  F-statistic:       </th>  <td>   67.41</td> \n",
       "</tr>\n",
       "<tr>\n",
       "  <th>Date:</th>             <td>Tue, 26 Sep 2023</td> <th>  Prob (F-statistic):</th>  <td>2.26e-16</td> \n",
       "</tr>\n",
       "<tr>\n",
       "  <th>Time:</th>                 <td>09:59:45</td>     <th>  Log-Likelihood:    </th>  <td>  16671.</td> \n",
       "</tr>\n",
       "<tr>\n",
       "  <th>No. Observations:</th>      <td> 52198</td>      <th>  AIC:               </th> <td>-3.334e+04</td>\n",
       "</tr>\n",
       "<tr>\n",
       "  <th>Df Residuals:</th>          <td> 52196</td>      <th>  BIC:               </th> <td>-3.332e+04</td>\n",
       "</tr>\n",
       "<tr>\n",
       "  <th>Df Model:</th>              <td>     1</td>      <th>                     </th>      <td> </td>    \n",
       "</tr>\n",
       "<tr>\n",
       "  <th>Covariance Type:</th>      <td>nonrobust</td>    <th>                     </th>      <td> </td>    \n",
       "</tr>\n",
       "</table>\n",
       "<table class=\"simpletable\">\n",
       "<tr>\n",
       "       <td></td>          <th>coef</th>     <th>std err</th>      <th>t</th>      <th>P>|t|</th>  <th>[0.025</th>    <th>0.975]</th>  \n",
       "</tr>\n",
       "<tr>\n",
       "  <th>const</th>       <td>    0.0038</td> <td>    0.002</td> <td>    2.021</td> <td> 0.043</td> <td>    0.000</td> <td>    0.008</td>\n",
       "</tr>\n",
       "<tr>\n",
       "  <th>bathroomcnt</th> <td>    0.0062</td> <td>    0.001</td> <td>    8.210</td> <td> 0.000</td> <td>    0.005</td> <td>    0.008</td>\n",
       "</tr>\n",
       "</table>\n",
       "<table class=\"simpletable\">\n",
       "<tr>\n",
       "  <th>Omnibus:</th>       <td>49576.034</td> <th>  Durbin-Watson:     </th>   <td>   2.008</td>  \n",
       "</tr>\n",
       "<tr>\n",
       "  <th>Prob(Omnibus):</th>  <td> 0.000</td>   <th>  Jarque-Bera (JB):  </th> <td>26765756.728</td>\n",
       "</tr>\n",
       "<tr>\n",
       "  <th>Skew:</th>           <td> 3.748</td>   <th>  Prob(JB):          </th>   <td>    0.00</td>  \n",
       "</tr>\n",
       "<tr>\n",
       "  <th>Kurtosis:</th>       <td>113.681</td>  <th>  Cond. No.          </th>   <td>    7.03</td>  \n",
       "</tr>\n",
       "</table><br/><br/>Notes:<br/>[1] Standard Errors assume that the covariance matrix of the errors is correctly specified."
      ],
      "text/plain": [
       "<class 'statsmodels.iolib.summary.Summary'>\n",
       "\"\"\"\n",
       "                            OLS Regression Results                            \n",
       "==============================================================================\n",
       "Dep. Variable:               logerror   R-squared:                       0.001\n",
       "Model:                            OLS   Adj. R-squared:                  0.001\n",
       "Method:                 Least Squares   F-statistic:                     67.41\n",
       "Date:                Tue, 26 Sep 2023   Prob (F-statistic):           2.26e-16\n",
       "Time:                        09:59:45   Log-Likelihood:                 16671.\n",
       "No. Observations:               52198   AIC:                        -3.334e+04\n",
       "Df Residuals:                   52196   BIC:                        -3.332e+04\n",
       "Df Model:                           1                                         \n",
       "Covariance Type:            nonrobust                                         \n",
       "===============================================================================\n",
       "                  coef    std err          t      P>|t|      [0.025      0.975]\n",
       "-------------------------------------------------------------------------------\n",
       "const           0.0038      0.002      2.021      0.043       0.000       0.008\n",
       "bathroomcnt     0.0062      0.001      8.210      0.000       0.005       0.008\n",
       "==============================================================================\n",
       "Omnibus:                    49576.034   Durbin-Watson:                   2.008\n",
       "Prob(Omnibus):                  0.000   Jarque-Bera (JB):         26765756.728\n",
       "Skew:                           3.748   Prob(JB):                         0.00\n",
       "Kurtosis:                     113.681   Cond. No.                         7.03\n",
       "==============================================================================\n",
       "\n",
       "Notes:\n",
       "[1] Standard Errors assume that the covariance matrix of the errors is correctly specified.\n",
       "\"\"\""
      ]
     },
     "execution_count": 37,
     "metadata": {},
     "output_type": "execute_result"
    }
   ],
   "source": [
    "\n",
    "# Assuming 'df' contains all relevant variables\n",
    "X = df[['bathroomcnt']]\n",
    "X = sm.add_constant(X)  # Add a constant term (intercept)\n",
    "y = df['logerror']\n",
    "\n",
    "# Fit the OLS regression model\n",
    "model = sm.OLS(y, X).fit()\n",
    "\n",
    "# Get regression summary\n",
    "summary = model.summary()\n",
    "summary"
   ]
  },
  {
   "cell_type": "markdown",
   "id": "d3c26b6b",
   "metadata": {},
   "source": [
    "The p value is below 0.05 therefore there is a significant relationship here"
   ]
  },
  {
   "cell_type": "code",
   "execution_count": null,
   "id": "f3a84f9e",
   "metadata": {},
   "outputs": [],
   "source": []
  },
  {
   "cell_type": "code",
   "execution_count": null,
   "id": "cea23b6b",
   "metadata": {},
   "outputs": [],
   "source": []
  },
  {
   "cell_type": "code",
   "execution_count": 41,
   "id": "1d465787",
   "metadata": {},
   "outputs": [
    {
     "data": {
      "text/plain": [
       "bedroomcnt             0\n",
       "bathroomcnt            0\n",
       "censustractandblock    0\n",
       "taxvaluedollarcnt      1\n",
       "assessmentyear         0\n",
       "logerror               0\n",
       "dtype: int64"
      ]
     },
     "execution_count": 41,
     "metadata": {},
     "output_type": "execute_result"
    }
   ],
   "source": [
    "wrangle_zillow.missing_by_col(df)"
   ]
  },
  {
   "cell_type": "code",
   "execution_count": 43,
   "id": "64a33419",
   "metadata": {},
   "outputs": [],
   "source": [
    "df.dropna(inplace=True)"
   ]
  },
  {
   "cell_type": "code",
   "execution_count": 44,
   "id": "53f05026",
   "metadata": {},
   "outputs": [
    {
     "data": {
      "text/plain": [
       "(bedroomcnt             1.500000e+00\n",
       " bathroomcnt            5.000000e-01\n",
       " censustractandblock    6.004940e+13\n",
       " taxvaluedollarcnt     -4.437675e+05\n",
       " assessmentyear         2.016000e+03\n",
       " logerror              -1.225784e-01\n",
       " dtype: float64,\n",
       " bedroomcnt             5.500000e+00\n",
       " bathroomcnt            4.500000e+00\n",
       " censustractandblock    6.091504e+13\n",
       " taxvaluedollarcnt      1.256564e+06\n",
       " assessmentyear         2.016000e+03\n",
       " logerror               1.384692e-01\n",
       " dtype: float64)"
      ]
     },
     "execution_count": 44,
     "metadata": {},
     "output_type": "execute_result"
    }
   ],
   "source": [
    "col=df.columns\n",
    "wrangle_zillow.get_fences(df, col)"
   ]
  },
  {
   "cell_type": "code",
   "execution_count": 45,
   "id": "d524b0a0",
   "metadata": {},
   "outputs": [
    {
     "name": "stdout",
     "output_type": "stream",
     "text": [
      "Outliers for Col bathroomcnt:\n",
      "lower:  0.5 upper:  4.5\n",
      "31       5.0\n",
      "33       5.0\n",
      "45       6.5\n",
      "52       5.0\n",
      "108      6.0\n",
      "        ... \n",
      "52192    6.0\n",
      "52207    5.0\n",
      "52238    6.0\n",
      "52273    5.0\n",
      "52307    0.0\n",
      "Name: bathroomcnt, Length: 1674, dtype: float64\n",
      "----------\n",
      "Outliers for Col censustractandblock:\n",
      "lower:  60049395188521.0 upper:  60915040104489.0\n",
      "1        6.111001e+13\n",
      "9        6.111005e+13\n",
      "87       6.111006e+13\n",
      "90       6.111006e+13\n",
      "92       6.111005e+13\n",
      "             ...     \n",
      "51760    6.111008e+13\n",
      "51763    6.111008e+13\n",
      "51764    6.111003e+13\n",
      "51769    6.111004e+13\n",
      "52316    6.111008e+13\n",
      "Name: censustractandblock, Length: 4367, dtype: float64\n",
      "----------\n",
      "Outliers for Col taxvaluedollarcnt:\n",
      "lower:  -443767.5 upper:  1256564.5\n",
      "16       2040000.0\n",
      "22       1444248.0\n",
      "23       1473080.0\n",
      "31       1814004.0\n",
      "33       1279000.0\n",
      "           ...    \n",
      "52236    2000000.0\n",
      "52238    2300797.0\n",
      "52241    1582000.0\n",
      "52263    2082201.0\n",
      "52283    1629476.0\n",
      "Name: taxvaluedollarcnt, Length: 3520, dtype: float64\n",
      "----------\n",
      "Outliers for Col logerror:\n",
      "lower:  -0.12257837815154984 upper:  0.13846919119684975\n",
      "18       0.206470\n",
      "28      -0.134762\n",
      "31      -0.259448\n",
      "63      -0.147592\n",
      "68      -0.201121\n",
      "           ...   \n",
      "52303   -0.232215\n",
      "52307   -0.159471\n",
      "52308   -0.816510\n",
      "52311   -0.140881\n",
      "52312    0.319408\n",
      "Name: logerror, Length: 6384, dtype: float64\n",
      "----------\n"
     ]
    }
   ],
   "source": [
    "wrangle_zillow.report_outliers(df, k=1.5)"
   ]
  },
  {
   "cell_type": "code",
   "execution_count": 46,
   "id": "3aff62a2",
   "metadata": {},
   "outputs": [],
   "source": [
    "train, val_test = train_test_split(df, train_size = 0.7,\n",
    "                                  random_state = 42,\n",
    "                                  stratify = None)\n",
    "val, test = train_test_split(val_test, train_size =0.5,\n",
    "                            random_state = 42,\n",
    "                            stratify = None)"
   ]
  },
  {
   "cell_type": "code",
   "execution_count": 47,
   "id": "ca99e715",
   "metadata": {},
   "outputs": [
    {
     "data": {
      "text/plain": [
       "(36537, 6)"
      ]
     },
     "execution_count": 47,
     "metadata": {},
     "output_type": "execute_result"
    }
   ],
   "source": [
    "train.shape"
   ]
  },
  {
   "cell_type": "code",
   "execution_count": 48,
   "id": "293252c3",
   "metadata": {},
   "outputs": [
    {
     "data": {
      "text/html": [
       "<div>\n",
       "<style scoped>\n",
       "    .dataframe tbody tr th:only-of-type {\n",
       "        vertical-align: middle;\n",
       "    }\n",
       "\n",
       "    .dataframe tbody tr th {\n",
       "        vertical-align: top;\n",
       "    }\n",
       "\n",
       "    .dataframe thead th {\n",
       "        text-align: right;\n",
       "    }\n",
       "</style>\n",
       "<table border=\"1\" class=\"dataframe\">\n",
       "  <thead>\n",
       "    <tr style=\"text-align: right;\">\n",
       "      <th></th>\n",
       "      <th>bedroomcnt</th>\n",
       "      <th>bathroomcnt</th>\n",
       "      <th>censustractandblock</th>\n",
       "      <th>taxvaluedollarcnt</th>\n",
       "      <th>assessmentyear</th>\n",
       "      <th>logerror</th>\n",
       "    </tr>\n",
       "  </thead>\n",
       "  <tbody>\n",
       "    <tr>\n",
       "      <th>22079</th>\n",
       "      <td>5.0</td>\n",
       "      <td>3.0</td>\n",
       "      <td>6.037911e+13</td>\n",
       "      <td>210083.0</td>\n",
       "      <td>2016.0</td>\n",
       "      <td>0.014366</td>\n",
       "    </tr>\n",
       "    <tr>\n",
       "      <th>23478</th>\n",
       "      <td>3.0</td>\n",
       "      <td>1.0</td>\n",
       "      <td>6.037572e+13</td>\n",
       "      <td>186636.0</td>\n",
       "      <td>2016.0</td>\n",
       "      <td>0.042888</td>\n",
       "    </tr>\n",
       "    <tr>\n",
       "      <th>29334</th>\n",
       "      <td>3.0</td>\n",
       "      <td>2.0</td>\n",
       "      <td>6.037500e+13</td>\n",
       "      <td>160670.0</td>\n",
       "      <td>2016.0</td>\n",
       "      <td>-0.015678</td>\n",
       "    </tr>\n",
       "    <tr>\n",
       "      <th>38462</th>\n",
       "      <td>3.0</td>\n",
       "      <td>1.0</td>\n",
       "      <td>6.059088e+13</td>\n",
       "      <td>297254.0</td>\n",
       "      <td>2016.0</td>\n",
       "      <td>0.072706</td>\n",
       "    </tr>\n",
       "    <tr>\n",
       "      <th>51977</th>\n",
       "      <td>2.0</td>\n",
       "      <td>2.0</td>\n",
       "      <td>6.037301e+13</td>\n",
       "      <td>456395.0</td>\n",
       "      <td>2016.0</td>\n",
       "      <td>-0.029744</td>\n",
       "    </tr>\n",
       "    <tr>\n",
       "      <th>...</th>\n",
       "      <td>...</td>\n",
       "      <td>...</td>\n",
       "      <td>...</td>\n",
       "      <td>...</td>\n",
       "      <td>...</td>\n",
       "      <td>...</td>\n",
       "    </tr>\n",
       "    <tr>\n",
       "      <th>11304</th>\n",
       "      <td>4.0</td>\n",
       "      <td>3.0</td>\n",
       "      <td>6.037401e+13</td>\n",
       "      <td>535986.0</td>\n",
       "      <td>2016.0</td>\n",
       "      <td>0.133678</td>\n",
       "    </tr>\n",
       "    <tr>\n",
       "      <th>44840</th>\n",
       "      <td>4.0</td>\n",
       "      <td>4.5</td>\n",
       "      <td>6.111006e+13</td>\n",
       "      <td>1584361.0</td>\n",
       "      <td>2016.0</td>\n",
       "      <td>-0.037401</td>\n",
       "    </tr>\n",
       "    <tr>\n",
       "      <th>38245</th>\n",
       "      <td>4.0</td>\n",
       "      <td>2.0</td>\n",
       "      <td>6.059042e+13</td>\n",
       "      <td>947228.0</td>\n",
       "      <td>2016.0</td>\n",
       "      <td>-0.001934</td>\n",
       "    </tr>\n",
       "    <tr>\n",
       "      <th>860</th>\n",
       "      <td>3.0</td>\n",
       "      <td>2.0</td>\n",
       "      <td>6.037401e+13</td>\n",
       "      <td>313004.0</td>\n",
       "      <td>2016.0</td>\n",
       "      <td>0.053889</td>\n",
       "    </tr>\n",
       "    <tr>\n",
       "      <th>15823</th>\n",
       "      <td>3.0</td>\n",
       "      <td>2.0</td>\n",
       "      <td>6.059089e+13</td>\n",
       "      <td>392281.0</td>\n",
       "      <td>2016.0</td>\n",
       "      <td>0.046417</td>\n",
       "    </tr>\n",
       "  </tbody>\n",
       "</table>\n",
       "<p>36537 rows × 6 columns</p>\n",
       "</div>"
      ],
      "text/plain": [
       "       bedroomcnt  bathroomcnt  censustractandblock  taxvaluedollarcnt  \\\n",
       "22079         5.0          3.0         6.037911e+13           210083.0   \n",
       "23478         3.0          1.0         6.037572e+13           186636.0   \n",
       "29334         3.0          2.0         6.037500e+13           160670.0   \n",
       "38462         3.0          1.0         6.059088e+13           297254.0   \n",
       "51977         2.0          2.0         6.037301e+13           456395.0   \n",
       "...           ...          ...                  ...                ...   \n",
       "11304         4.0          3.0         6.037401e+13           535986.0   \n",
       "44840         4.0          4.5         6.111006e+13          1584361.0   \n",
       "38245         4.0          2.0         6.059042e+13           947228.0   \n",
       "860           3.0          2.0         6.037401e+13           313004.0   \n",
       "15823         3.0          2.0         6.059089e+13           392281.0   \n",
       "\n",
       "       assessmentyear  logerror  \n",
       "22079          2016.0  0.014366  \n",
       "23478          2016.0  0.042888  \n",
       "29334          2016.0 -0.015678  \n",
       "38462          2016.0  0.072706  \n",
       "51977          2016.0 -0.029744  \n",
       "...               ...       ...  \n",
       "11304          2016.0  0.133678  \n",
       "44840          2016.0 -0.037401  \n",
       "38245          2016.0 -0.001934  \n",
       "860            2016.0  0.053889  \n",
       "15823          2016.0  0.046417  \n",
       "\n",
       "[36537 rows x 6 columns]"
      ]
     },
     "execution_count": 48,
     "metadata": {},
     "output_type": "execute_result"
    }
   ],
   "source": [
    "train"
   ]
  },
  {
   "cell_type": "code",
   "execution_count": 49,
   "id": "5c8a03c0",
   "metadata": {},
   "outputs": [
    {
     "name": "stdout",
     "output_type": "stream",
     "text": [
      "train observations:  219222\n",
      "validate observations:  46980\n",
      "test observations:  46980\n"
     ]
    }
   ],
   "source": [
    "print(\"train observations: \", train.size)\n",
    "print(\"validate observations: \", val.size)\n",
    "print(\"test observations: \", test.size)\n"
   ]
  },
  {
   "cell_type": "code",
   "execution_count": null,
   "id": "0e9aced6",
   "metadata": {},
   "outputs": [],
   "source": []
  },
  {
   "cell_type": "code",
   "execution_count": null,
   "id": "cb4e2988",
   "metadata": {},
   "outputs": [],
   "source": []
  },
  {
   "cell_type": "code",
   "execution_count": null,
   "id": "d795fe06",
   "metadata": {},
   "outputs": [],
   "source": []
  },
  {
   "cell_type": "code",
   "execution_count": null,
   "id": "6110a246",
   "metadata": {},
   "outputs": [],
   "source": []
  }
 ],
 "metadata": {
  "kernelspec": {
   "display_name": "Python 3 (ipykernel)",
   "language": "python",
   "name": "python3"
  },
  "language_info": {
   "codemirror_mode": {
    "name": "ipython",
    "version": 3
   },
   "file_extension": ".py",
   "mimetype": "text/x-python",
   "name": "python",
   "nbconvert_exporter": "python",
   "pygments_lexer": "ipython3",
   "version": "3.10.9"
  }
 },
 "nbformat": 4,
 "nbformat_minor": 5
}
