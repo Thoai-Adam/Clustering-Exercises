{
 "cells": [
  {
   "cell_type": "code",
   "execution_count": 1,
   "id": "5c14f0cf",
   "metadata": {},
   "outputs": [
    {
     "data": {
      "application/javascript": [
       "IPython.notebook.set_autosave_interval(0)"
      ]
     },
     "metadata": {},
     "output_type": "display_data"
    },
    {
     "name": "stdout",
     "output_type": "stream",
     "text": [
      "Autosave disabled\n"
     ]
    }
   ],
   "source": [
    "%autosave 0"
   ]
  },
  {
   "cell_type": "code",
   "execution_count": 23,
   "id": "310bd323",
   "metadata": {},
   "outputs": [],
   "source": [
    "import warnings\n",
    "warnings.filterwarnings(\"ignore\")\n",
    "import pandas as pd\n",
    "import numpy as np\n",
    "import seaborn as sns\n",
    "import matplotlib.pyplot as plt\n",
    "import env\n",
    "import wrangle_zillow\n",
    "from zillow_query import query as zquery\n",
    "from sklearn.preprocessing import MinMaxScaler\n",
    "from sklearn.model_selection import train_test_split"
   ]
  },
  {
   "cell_type": "code",
   "execution_count": 25,
   "id": "1b8b1949",
   "metadata": {},
   "outputs": [
    {
     "ename": "AttributeError",
     "evalue": "module 'wrangle_zillow' has no attribute 'acquire_zillow'",
     "output_type": "error",
     "traceback": [
      "\u001b[0;31m---------------------------------------------------------------------------\u001b[0m",
      "\u001b[0;31mAttributeError\u001b[0m                            Traceback (most recent call last)",
      "Cell \u001b[0;32mIn[25], line 1\u001b[0m\n\u001b[0;32m----> 1\u001b[0m \u001b[43mwrangle_zillow\u001b[49m\u001b[38;5;241;43m.\u001b[39;49m\u001b[43macquire_zillow\u001b[49m()\n",
      "\u001b[0;31mAttributeError\u001b[0m: module 'wrangle_zillow' has no attribute 'acquire_zillow'"
     ]
    }
   ],
   "source": [
    "wrangle_zillow.acquire_zillow()"
   ]
  },
  {
   "cell_type": "code",
   "execution_count": 4,
   "id": "1dab5ad2",
   "metadata": {},
   "outputs": [
    {
     "data": {
      "text/plain": [
       "customer_id       0\n",
       "gender            0\n",
       "age               0\n",
       "annual_income     0\n",
       "spending_score    0\n",
       "dtype: int64"
      ]
     },
     "execution_count": 4,
     "metadata": {},
     "output_type": "execute_result"
    }
   ],
   "source": [
    "wrangle_zillow.missing_by_col(df)"
   ]
  },
  {
   "cell_type": "code",
   "execution_count": 5,
   "id": "f784239c",
   "metadata": {},
   "outputs": [
    {
     "data": {
      "text/html": [
       "<div>\n",
       "<style scoped>\n",
       "    .dataframe tbody tr th:only-of-type {\n",
       "        vertical-align: middle;\n",
       "    }\n",
       "\n",
       "    .dataframe tbody tr th {\n",
       "        vertical-align: top;\n",
       "    }\n",
       "\n",
       "    .dataframe thead th {\n",
       "        text-align: right;\n",
       "    }\n",
       "</style>\n",
       "<table border=\"1\" class=\"dataframe\">\n",
       "  <thead>\n",
       "    <tr style=\"text-align: right;\">\n",
       "      <th></th>\n",
       "      <th>num_cols_missing</th>\n",
       "      <th>percent_cols_missing</th>\n",
       "      <th>num_rows</th>\n",
       "    </tr>\n",
       "  </thead>\n",
       "  <tbody>\n",
       "    <tr>\n",
       "      <th>0</th>\n",
       "      <td>0</td>\n",
       "      <td>0.0</td>\n",
       "      <td>200</td>\n",
       "    </tr>\n",
       "  </tbody>\n",
       "</table>\n",
       "</div>"
      ],
      "text/plain": [
       "   num_cols_missing  percent_cols_missing  num_rows\n",
       "0                 0                   0.0       200"
      ]
     },
     "execution_count": 5,
     "metadata": {},
     "output_type": "execute_result"
    }
   ],
   "source": [
    "wrangle_zillow.missing_by_row(df)"
   ]
  },
  {
   "cell_type": "code",
   "execution_count": 6,
   "id": "05693360",
   "metadata": {},
   "outputs": [
    {
     "data": {
      "text/plain": [
       "(customer_id      -98.500\n",
       " age               -1.625\n",
       " annual_income    -13.250\n",
       " spending_score   -22.625\n",
       " dtype: float64,\n",
       " customer_id       299.500\n",
       " age                79.375\n",
       " annual_income     132.750\n",
       " spending_score    130.375\n",
       " dtype: float64)"
      ]
     },
     "execution_count": 6,
     "metadata": {},
     "output_type": "execute_result"
    }
   ],
   "source": [
    "col=df.columns\n",
    "wrangle_zillow.get_fences(df, col)"
   ]
  },
  {
   "cell_type": "code",
   "execution_count": 7,
   "id": "5c65a938",
   "metadata": {},
   "outputs": [
    {
     "name": "stdout",
     "output_type": "stream",
     "text": [
      "Outliers for Col customer_id:\n",
      "lower:  -98.5 upper:  299.5\n",
      "Series([], Name: customer_id, dtype: int64)\n",
      "----------\n",
      "Outliers for Col age:\n",
      "lower:  -1.625 upper:  79.375\n",
      "Series([], Name: age, dtype: int64)\n",
      "----------\n",
      "Outliers for Col annual_income:\n",
      "lower:  -13.25 upper:  132.75\n",
      "198    137\n",
      "199    137\n",
      "Name: annual_income, dtype: int64\n",
      "----------\n",
      "Outliers for Col spending_score:\n",
      "lower:  -22.625 upper:  130.375\n",
      "Series([], Name: spending_score, dtype: int64)\n",
      "----------\n"
     ]
    }
   ],
   "source": [
    "wrangle_zillow.report_outliers(df, k=1.5)"
   ]
  },
  {
   "cell_type": "code",
   "execution_count": 8,
   "id": "c91cb855",
   "metadata": {},
   "outputs": [
    {
     "name": "stdout",
     "output_type": "stream",
     "text": [
      "Shape of Data: \n",
      "(200, 5)\n",
      "======================\n",
      "======================\n",
      "Info: \n",
      "<class 'pandas.core.frame.DataFrame'>\n",
      "RangeIndex: 200 entries, 0 to 199\n",
      "Data columns (total 5 columns):\n",
      " #   Column          Non-Null Count  Dtype \n",
      "---  ------          --------------  ----- \n",
      " 0   customer_id     200 non-null    int64 \n",
      " 1   gender          200 non-null    object\n",
      " 2   age             200 non-null    int64 \n",
      " 3   annual_income   200 non-null    int64 \n",
      " 4   spending_score  200 non-null    int64 \n",
      "dtypes: int64(4), object(1)\n",
      "memory usage: 7.9+ KB\n",
      "None\n",
      "======================\n",
      "======================\n",
      "Descriptions:\n",
      "|                |   count |   mean |     std |   min |   25% |   50% |    75% |   max |\n",
      "|:---------------|--------:|-------:|--------:|------:|------:|------:|-------:|------:|\n",
      "| customer_id    |     200 | 100.5  | 57.8792 |     1 | 50.75 | 100.5 | 150.25 |   200 |\n",
      "| age            |     200 |  38.85 | 13.969  |    18 | 28.75 |  36   |  49    |    70 |\n",
      "| annual_income  |     200 |  60.56 | 26.2647 |    15 | 41.5  |  61.5 |  78    |   137 |\n",
      "| spending_score |     200 |  50.2  | 25.8235 |     1 | 34.75 |  50   |  73    |    99 |\n",
      "======================\n",
      "======================\n",
      "|        |   count |   unique | top    |   freq |\n",
      "|:-------|--------:|---------:|:-------|-------:|\n",
      "| gender |     200 |        2 | Female |    112 |\n",
      "======================\n",
      "======================\n",
      "missing values:\n",
      "by column:\n",
      "|                |   0 |\n",
      "|:---------------|----:|\n",
      "| customer_id    |   0 |\n",
      "| gender         |   0 |\n",
      "| age            |   0 |\n",
      "| annual_income  |   0 |\n",
      "| spending_score |   0 |\n",
      "by row: \n",
      "|    |   num_cols_missing |   percent_cols_missing |   num_rows |\n",
      "|---:|-------------------:|-----------------------:|-----------:|\n",
      "|  0 |                  0 |                      0 |        200 |\n",
      "======================\n",
      "======================\n",
      "Outliers: \n",
      "Outliers for Col customer_id:\n",
      "lower:  -98.5 upper:  299.5\n",
      "Series([], Name: customer_id, dtype: int64)\n",
      "----------\n",
      "Outliers for Col age:\n",
      "lower:  -1.625 upper:  79.375\n",
      "Series([], Name: age, dtype: int64)\n",
      "----------\n",
      "Outliers for Col annual_income:\n",
      "lower:  -13.25 upper:  132.75\n",
      "198    137\n",
      "199    137\n",
      "Name: annual_income, dtype: int64\n",
      "----------\n",
      "Outliers for Col spending_score:\n",
      "lower:  -22.625 upper:  130.375\n",
      "Series([], Name: spending_score, dtype: int64)\n",
      "----------\n",
      "None\n",
      "======================\n",
      "======================\n"
     ]
    }
   ],
   "source": [
    "wrangle_zillow.summarize(df, k=1.5)"
   ]
  },
  {
   "cell_type": "code",
   "execution_count": 20,
   "id": "10d6b971",
   "metadata": {},
   "outputs": [
    {
     "data": {
      "text/plain": [
       "([[[[[     customer_id  gender  age  annual_income  spending_score\n",
       "      26            27  Female   45             28              32\n",
       "      23            24    Male   31             25              73\n",
       "      39            40  Female   20             37              75\n",
       "      37            38  Female   30             34              73\n",
       "      56            57  Female   51             44              50\n",
       "      ..           ...     ...  ...            ...             ...\n",
       "      176          177    Male   58             88              15\n",
       "      194          195  Female   47            120              16\n",
       "      12            13  Female   58             20              15\n",
       "      34            35  Female   49             33              14\n",
       "      117          118  Female   49             65              59\n",
       "      \n",
       "      [112 rows x 5 columns]]]]]],\n",
       " [[[[[     customer_id  gender  age  annual_income  spending_score\n",
       "      179          180    Male   35             93              90\n",
       "      7              8  Female   23             18              94\n",
       "      153          154  Female   38             78              76\n",
       "      140          141  Female   57             75               5\n",
       "      144          145    Male   25             77              12\n",
       "      52            53  Female   31             43              54\n",
       "      54            55  Female   50             43              45\n",
       "      188          189  Female   41            103              17\n",
       "      185          186    Male   30             99              97\n",
       "      133          134  Female   31             72              71\n",
       "      101          102  Female   49             62              48\n",
       "      125          126  Female   31             70              77\n",
       "      120          121    Male   27             67              56\n",
       "      190          191  Female   34            103              23\n",
       "      66            67  Female   43             48              50\n",
       "      196          197  Female   45            126              28\n",
       "      165          166  Female   36             85              75\n",
       "      122          123  Female   40             69              58\n",
       "      111          112  Female   19             63              54\n",
       "      172          173    Male   36             87              10\n",
       "      127          128    Male   40             71              95\n",
       "      180          181  Female   37             97              32\n",
       "      2              3  Female   20             16               6\n",
       "      57            58    Male   69             44              46\n",
       "      48            49  Female   29             40              42\n",
       "      21            22    Male   25             24              73\n",
       "      73            74  Female   60             50              56\n",
       "      156          157    Male   37             78               1\n",
       "      75            76    Male   26             54              54\n",
       "      10            11    Male   67             19              14\n",
       "      40            41  Female   65             38              35\n",
       "      137          138    Male   32             73              73\n",
       "      149          150    Male   34             78              90\n",
       "      187          188    Male   28            101              68\n",
       "      103          104    Male   26             62              55\n",
       "      27            28    Male   35             28              61\n",
       "      154          155  Female   47             78              16\n",
       "      42            43    Male   48             39              36\n",
       "      118          119  Female   51             67              43\n",
       "      61            62    Male   19             46              55]]]]],\n",
       " [[[[[     customer_id  gender  age  annual_income  spending_score\n",
       "      159          160  Female   30             78              73\n",
       "      88            89  Female   34             58              60\n",
       "      8              9    Male   64             19               3\n",
       "      128          129    Male   59             71              11\n",
       "      93            94  Female   40             60              40\n",
       "      168          169  Female   36             87              27\n",
       "      173          174    Male   36             87              92\n",
       "      112          113  Female   38             64              42\n",
       "      186          187  Female   54            101              24\n",
       "      74            75    Male   59             54              47\n",
       "      139          140  Female   35             74              72\n",
       "      30            31    Male   60             30               4\n",
       "      14            15    Male   37             20              13\n",
       "      175          176  Female   30             88              86\n",
       "      131          132    Male   39             71              75\n",
       "      41            42    Male   24             38              92\n",
       "      161          162  Female   29             79              83\n",
       "      31            32  Female   21             30              73\n",
       "      138          139    Male   19             74              10\n",
       "      178          179    Male   59             93              14\n",
       "      64            65    Male   63             48              51\n",
       "      95            96    Male   24             60              52\n",
       "      150          151    Male   43             78              17\n",
       "      1              2    Male   21             15              81\n",
       "      198          199    Male   32            137              18\n",
       "      167          168  Female   33             86              95\n",
       "      119          120  Female   50             67              57\n",
       "      67            68  Female   68             48              48\n",
       "      135          136  Female   29             73              88\n",
       "      97            98  Female   27             60              50\n",
       "      84            85  Female   21             54              57\n",
       "      104          105    Male   49             62              56\n",
       "      65            66    Male   18             48              59\n",
       "      158          159    Male   34             78               1\n",
       "      99           100    Male   20             61              49\n",
       "      50            51  Female   49             42              52\n",
       "      169          170    Male   32             87              63\n",
       "      53            54    Male   59             43              60\n",
       "      141          142    Male   32             75              93\n",
       "      87            88  Female   22             57              55\n",
       "      157          158  Female   30             78              78\n",
       "      13            14  Female   24             20              77\n",
       "      115          116  Female   19             65              50\n",
       "      68            69    Male   19             48              59\n",
       "      166          167    Male   42             86              20\n",
       "      44            45  Female   49             39              28\n",
       "      35            36  Female   21             33              81\n",
       "      9             10  Female   30             19              72]]]]])"
      ]
     },
     "execution_count": 20,
     "metadata": {},
     "output_type": "execute_result"
    }
   ],
   "source": [
    "df= wrangle_zillow.split_data(df, target=None)\n",
    "df"
   ]
  },
  {
   "cell_type": "code",
   "execution_count": 10,
   "id": "26ed01bf",
   "metadata": {},
   "outputs": [
    {
     "data": {
      "text/plain": [
       "['customer_id', 'age', 'annual_income', 'spending_score']"
      ]
     },
     "execution_count": 10,
     "metadata": {},
     "output_type": "execute_result"
    }
   ],
   "source": [
    "wrangle_zillow.get_continuous_feats(df)"
   ]
  },
  {
   "cell_type": "code",
   "execution_count": 15,
   "id": "437a42eb",
   "metadata": {},
   "outputs": [
    {
     "ename": "AttributeError",
     "evalue": "'tuple' object has no attribute 'shape'",
     "output_type": "error",
     "traceback": [
      "\u001b[0;31m---------------------------------------------------------------------------\u001b[0m",
      "\u001b[0;31mAttributeError\u001b[0m                            Traceback (most recent call last)",
      "Cell \u001b[0;32mIn[15], line 1\u001b[0m\n\u001b[0;32m----> 1\u001b[0m \u001b[43mdf\u001b[49m\u001b[38;5;241;43m.\u001b[39;49m\u001b[43mshape\u001b[49m\n",
      "\u001b[0;31mAttributeError\u001b[0m: 'tuple' object has no attribute 'shape'"
     ]
    }
   ],
   "source": [
    "df.shape"
   ]
  },
  {
   "cell_type": "code",
   "execution_count": 13,
   "id": "1adaf5ad",
   "metadata": {},
   "outputs": [
    {
     "ename": "NameError",
     "evalue": "name 'train' is not defined",
     "output_type": "error",
     "traceback": [
      "\u001b[0;31m---------------------------------------------------------------------------\u001b[0m",
      "\u001b[0;31mNameError\u001b[0m                                 Traceback (most recent call last)",
      "Cell \u001b[0;32mIn[13], line 1\u001b[0m\n\u001b[0;32m----> 1\u001b[0m \u001b[43mtrain\u001b[49m\u001b[38;5;241m.\u001b[39mshape\n",
      "\u001b[0;31mNameError\u001b[0m: name 'train' is not defined"
     ]
    }
   ],
   "source": [
    "train.shape"
   ]
  },
  {
   "cell_type": "code",
   "execution_count": null,
   "id": "fe9d0111",
   "metadata": {},
   "outputs": [],
   "source": []
  }
 ],
 "metadata": {
  "kernelspec": {
   "display_name": "Python 3 (ipykernel)",
   "language": "python",
   "name": "python3"
  },
  "language_info": {
   "codemirror_mode": {
    "name": "ipython",
    "version": 3
   },
   "file_extension": ".py",
   "mimetype": "text/x-python",
   "name": "python",
   "nbconvert_exporter": "python",
   "pygments_lexer": "ipython3",
   "version": "3.10.9"
  }
 },
 "nbformat": 4,
 "nbformat_minor": 5
}
